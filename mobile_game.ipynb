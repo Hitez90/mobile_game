{
 "cells": [
  {
   "cell_type": "code",
   "execution_count": 1,
   "metadata": {},
   "outputs": [],
   "source": [
    "import pandas as pd \n",
    "import seaborn as sns\n",
    "import matplotlib.pyplot as plt\n",
    "%matplotlib inline\n",
    "\n",
    "from datetime import timedelta\n",
    "\n",
    "import requests \n",
    "from urllib.parse import urlencode \n",
    "\n",
    "from statsmodels.stats.proportion import proportions_ztest\n",
    "import scipy.stats as sps"
   ]
  },
  {
   "cell_type": "markdown",
   "metadata": {},
   "source": [
    "## Задание 1.\n",
    "## Общее описание\n",
    "\n",
    "Retention – один из самых важных показателей в компании. Ваша задача – написать функцию, которая будет считать retention игроков (по дням от даты регистрации игрока)."
   ]
  },
  {
   "cell_type": "code",
   "execution_count": 2,
   "metadata": {},
   "outputs": [],
   "source": [
    "path_reg = '/mnt/HC_Volume_18315164/home-jupyter/jupyter-v-tsuzoj/shared/problem1-reg_data.csv'\n",
    "path_auth = '/mnt/HC_Volume_18315164/home-jupyter/jupyter-v-tsuzoj/shared/problem1-auth_data.csv'"
   ]
  },
  {
   "cell_type": "code",
   "execution_count": 3,
   "metadata": {},
   "outputs": [],
   "source": [
    "reg_data = pd.read_csv(path_reg, sep = ';')\n",
    "auth_data = pd.read_csv(path_auth, sep = ';')"
   ]
  },
  {
   "cell_type": "markdown",
   "metadata": {},
   "source": [
    "### Проведем EDA и посмотрим на данные"
   ]
  },
  {
   "cell_type": "code",
   "execution_count": 4,
   "metadata": {},
   "outputs": [
    {
     "data": {
      "text/html": [
       "<div>\n",
       "<style scoped>\n",
       "    .dataframe tbody tr th:only-of-type {\n",
       "        vertical-align: middle;\n",
       "    }\n",
       "\n",
       "    .dataframe tbody tr th {\n",
       "        vertical-align: top;\n",
       "    }\n",
       "\n",
       "    .dataframe thead th {\n",
       "        text-align: right;\n",
       "    }\n",
       "</style>\n",
       "<table border=\"1\" class=\"dataframe\">\n",
       "  <thead>\n",
       "    <tr style=\"text-align: right;\">\n",
       "      <th></th>\n",
       "      <th>reg_ts</th>\n",
       "      <th>uid</th>\n",
       "    </tr>\n",
       "  </thead>\n",
       "  <tbody>\n",
       "    <tr>\n",
       "      <th>0</th>\n",
       "      <td>911382223</td>\n",
       "      <td>1</td>\n",
       "    </tr>\n",
       "    <tr>\n",
       "      <th>1</th>\n",
       "      <td>932683089</td>\n",
       "      <td>2</td>\n",
       "    </tr>\n",
       "    <tr>\n",
       "      <th>2</th>\n",
       "      <td>947802447</td>\n",
       "      <td>3</td>\n",
       "    </tr>\n",
       "    <tr>\n",
       "      <th>3</th>\n",
       "      <td>959523541</td>\n",
       "      <td>4</td>\n",
       "    </tr>\n",
       "    <tr>\n",
       "      <th>4</th>\n",
       "      <td>969103313</td>\n",
       "      <td>5</td>\n",
       "    </tr>\n",
       "  </tbody>\n",
       "</table>\n",
       "</div>"
      ],
      "text/plain": [
       "      reg_ts  uid\n",
       "0  911382223    1\n",
       "1  932683089    2\n",
       "2  947802447    3\n",
       "3  959523541    4\n",
       "4  969103313    5"
      ]
     },
     "execution_count": 4,
     "metadata": {},
     "output_type": "execute_result"
    }
   ],
   "source": [
    "reg_data.head()"
   ]
  },
  {
   "cell_type": "markdown",
   "metadata": {},
   "source": [
    "Время в колонке reg_ts указано в секундах, поэтому отметим этот момент чтобы учесть его в дальнейшем при написании функции"
   ]
  },
  {
   "cell_type": "code",
   "execution_count": 5,
   "metadata": {},
   "outputs": [
    {
     "name": "stdout",
     "output_type": "stream",
     "text": [
      "<class 'pandas.core.frame.DataFrame'>\n",
      "RangeIndex: 1000000 entries, 0 to 999999\n",
      "Data columns (total 2 columns):\n",
      " #   Column  Non-Null Count    Dtype\n",
      "---  ------  --------------    -----\n",
      " 0   reg_ts  1000000 non-null  int64\n",
      " 1   uid     1000000 non-null  int64\n",
      "dtypes: int64(2)\n",
      "memory usage: 15.3 MB\n"
     ]
    }
   ],
   "source": [
    "reg_data.info()"
   ]
  },
  {
   "cell_type": "code",
   "execution_count": 6,
   "metadata": {},
   "outputs": [
    {
     "data": {
      "text/html": [
       "<div>\n",
       "<style scoped>\n",
       "    .dataframe tbody tr th:only-of-type {\n",
       "        vertical-align: middle;\n",
       "    }\n",
       "\n",
       "    .dataframe tbody tr th {\n",
       "        vertical-align: top;\n",
       "    }\n",
       "\n",
       "    .dataframe thead th {\n",
       "        text-align: right;\n",
       "    }\n",
       "</style>\n",
       "<table border=\"1\" class=\"dataframe\">\n",
       "  <thead>\n",
       "    <tr style=\"text-align: right;\">\n",
       "      <th></th>\n",
       "      <th>auth_ts</th>\n",
       "      <th>uid</th>\n",
       "    </tr>\n",
       "  </thead>\n",
       "  <tbody>\n",
       "    <tr>\n",
       "      <th>0</th>\n",
       "      <td>911382223</td>\n",
       "      <td>1</td>\n",
       "    </tr>\n",
       "    <tr>\n",
       "      <th>1</th>\n",
       "      <td>932683089</td>\n",
       "      <td>2</td>\n",
       "    </tr>\n",
       "    <tr>\n",
       "      <th>2</th>\n",
       "      <td>932921206</td>\n",
       "      <td>2</td>\n",
       "    </tr>\n",
       "    <tr>\n",
       "      <th>3</th>\n",
       "      <td>933393015</td>\n",
       "      <td>2</td>\n",
       "    </tr>\n",
       "    <tr>\n",
       "      <th>4</th>\n",
       "      <td>933875379</td>\n",
       "      <td>2</td>\n",
       "    </tr>\n",
       "  </tbody>\n",
       "</table>\n",
       "</div>"
      ],
      "text/plain": [
       "     auth_ts  uid\n",
       "0  911382223    1\n",
       "1  932683089    2\n",
       "2  932921206    2\n",
       "3  933393015    2\n",
       "4  933875379    2"
      ]
     },
     "execution_count": 6,
     "metadata": {},
     "output_type": "execute_result"
    }
   ],
   "source": [
    "auth_data.head()"
   ]
  },
  {
   "cell_type": "markdown",
   "metadata": {},
   "source": [
    "Аналогично с колонкой auth_ts время из секунд будем переводить в даты"
   ]
  },
  {
   "cell_type": "code",
   "execution_count": 7,
   "metadata": {},
   "outputs": [
    {
     "name": "stdout",
     "output_type": "stream",
     "text": [
      "<class 'pandas.core.frame.DataFrame'>\n",
      "RangeIndex: 9601013 entries, 0 to 9601012\n",
      "Data columns (total 2 columns):\n",
      " #   Column   Dtype\n",
      "---  ------   -----\n",
      " 0   auth_ts  int64\n",
      " 1   uid      int64\n",
      "dtypes: int64(2)\n",
      "memory usage: 146.5 MB\n"
     ]
    }
   ],
   "source": [
    "auth_data.info()"
   ]
  },
  {
   "cell_type": "markdown",
   "metadata": {},
   "source": [
    "### С данными все впорядке. Уже в процессе написания самой функции столбцы со временем приведем к необходимому типу данных. Поэтому приступим к написанию функции расчета retention"
   ]
  },
  {
   "cell_type": "code",
   "execution_count": 8,
   "metadata": {},
   "outputs": [],
   "source": [
    "def retention_calculate(path_reg, path_auth, first_date, n):\n",
    "    #считываем данные\n",
    "    reg_data = pd.read_csv(path_reg, sep = ';')\n",
    "    auth_data = pd.read_csv(path_auth, sep = ';')\n",
    "    \n",
    "    #переведем в формат даты столбцы reg_ts и auth_ts\n",
    "    reg_data['reg_ts'] = pd.to_datetime(reg_data['reg_ts'], unit='s').dt.date\n",
    "    reg_data = reg_data.rename(columns = {'reg_ts' : 'Registration_date'})\n",
    "    auth_data['auth_ts'] = pd.to_datetime(auth_data['auth_ts'], unit='s').dt.date\n",
    "    \n",
    "    #смерджим 2 датафрейма\n",
    "    merged_df = reg_data.merge(auth_data, how = 'inner', on = 'uid')\n",
    "    \n",
    "    #устанавливаем временной интервал, по которому будем оценивать retention\n",
    "    first_date = pd.to_datetime(first_date)\n",
    "    last_date = (pd.to_datetime(first_date) + pd.Timedelta(days = n))\n",
    "    \n",
    "    #фильтруем датафрейм по интересующему нас временному интервалу\n",
    "    period_df = merged_df.query(\"auth_ts <= @last_date & Registration_date >= @first_date\")\n",
    "    \n",
    "    #создаем таблицу с рассчитанным retention rate \n",
    "    cohort_df = period_df.groupby(['Registration_date', 'auth_ts'], as_index = False)['uid'].nunique()\n",
    "    cohort_df['days'] = (cohort_df['auth_ts'] - cohort_df['Registration_date']).dt.days\n",
    "    cohort_pivot = cohort_df.pivot_table(index='Registration_date', columns='days', values='uid')\n",
    "    retention = cohort_pivot.divide(cohort_pivot.iloc[:, 0], axis=0)\n",
    "    \n",
    "    return retention"
   ]
  },
  {
   "cell_type": "code",
   "execution_count": 9,
   "metadata": {},
   "outputs": [],
   "source": [
    "def retention_styled(retention):    \n",
    "    cohort_retention_styled = (retention\n",
    "            .style\n",
    "            .set_caption('User retention by cohort')  # добавляем подпись\n",
    "            .background_gradient(cmap='Blues')  # раскрашиваем ячейки по столбцам\n",
    "            .highlight_null('white')  # делаем белый фон для значений NaN\n",
    "            .format(\"{:.02%}\", na_rep=\"\"))  # числа форматируем как проценты, 0 заменяем на пустоту\n",
    "\n",
    "    return cohort_retention_styled"
   ]
  },
  {
   "cell_type": "markdown",
   "metadata": {},
   "source": [
    "#### Для расчета retention необходимо в функцию retention_calculate передать 4 параметра:\n",
    "- `path_reg` - путь до файла с данными о регистрации пользователей\n",
    "- `path_auth` - путь до файла с данными о авторизации пользователей\n",
    "- `first_date` - дата начала отсчета (дата регистрации)\n",
    "- `n` - число дней за который считаем retention"
   ]
  },
  {
   "cell_type": "code",
   "execution_count": 10,
   "metadata": {},
   "outputs": [],
   "source": [
    "path_reg = '/mnt/HC_Volume_18315164/home-jupyter/jupyter-v-tsuzoj/shared/problem1-reg_data.csv'\n",
    "path_auth = '/mnt/HC_Volume_18315164/home-jupyter/jupyter-v-tsuzoj/shared/problem1-auth_data.csv'\n",
    "first_date = '2020-06-10'\n",
    "n = 15"
   ]
  },
  {
   "cell_type": "code",
   "execution_count": 11,
   "metadata": {},
   "outputs": [
    {
     "data": {
      "text/html": [
       "<style  type=\"text/css\" >\n",
       "#T_4610200e_e366_11ee_bdbb_96000040dfb6row0_col0,#T_4610200e_e366_11ee_bdbb_96000040dfb6row0_col1,#T_4610200e_e366_11ee_bdbb_96000040dfb6row0_col9,#T_4610200e_e366_11ee_bdbb_96000040dfb6row0_col15,#T_4610200e_e366_11ee_bdbb_96000040dfb6row1_col0,#T_4610200e_e366_11ee_bdbb_96000040dfb6row1_col12,#T_4610200e_e366_11ee_bdbb_96000040dfb6row1_col14,#T_4610200e_e366_11ee_bdbb_96000040dfb6row2_col0,#T_4610200e_e366_11ee_bdbb_96000040dfb6row2_col13,#T_4610200e_e366_11ee_bdbb_96000040dfb6row3_col0,#T_4610200e_e366_11ee_bdbb_96000040dfb6row3_col2,#T_4610200e_e366_11ee_bdbb_96000040dfb6row3_col8,#T_4610200e_e366_11ee_bdbb_96000040dfb6row3_col11,#T_4610200e_e366_11ee_bdbb_96000040dfb6row4_col0,#T_4610200e_e366_11ee_bdbb_96000040dfb6row4_col6,#T_4610200e_e366_11ee_bdbb_96000040dfb6row4_col10,#T_4610200e_e366_11ee_bdbb_96000040dfb6row5_col0,#T_4610200e_e366_11ee_bdbb_96000040dfb6row6_col0,#T_4610200e_e366_11ee_bdbb_96000040dfb6row6_col4,#T_4610200e_e366_11ee_bdbb_96000040dfb6row7_col0,#T_4610200e_e366_11ee_bdbb_96000040dfb6row7_col5,#T_4610200e_e366_11ee_bdbb_96000040dfb6row7_col7,#T_4610200e_e366_11ee_bdbb_96000040dfb6row8_col0,#T_4610200e_e366_11ee_bdbb_96000040dfb6row8_col3,#T_4610200e_e366_11ee_bdbb_96000040dfb6row9_col0,#T_4610200e_e366_11ee_bdbb_96000040dfb6row10_col0,#T_4610200e_e366_11ee_bdbb_96000040dfb6row11_col0,#T_4610200e_e366_11ee_bdbb_96000040dfb6row12_col0,#T_4610200e_e366_11ee_bdbb_96000040dfb6row13_col0,#T_4610200e_e366_11ee_bdbb_96000040dfb6row14_col0,#T_4610200e_e366_11ee_bdbb_96000040dfb6row15_col0{\n",
       "            background-color:  #f7fbff;\n",
       "            color:  #000000;\n",
       "        }#T_4610200e_e366_11ee_bdbb_96000040dfb6row0_col2{\n",
       "            background-color:  #caddf0;\n",
       "            color:  #000000;\n",
       "        }#T_4610200e_e366_11ee_bdbb_96000040dfb6row0_col3{\n",
       "            background-color:  #3383be;\n",
       "            color:  #000000;\n",
       "        }#T_4610200e_e366_11ee_bdbb_96000040dfb6row0_col4{\n",
       "            background-color:  #c6dbef;\n",
       "            color:  #000000;\n",
       "        }#T_4610200e_e366_11ee_bdbb_96000040dfb6row0_col5,#T_4610200e_e366_11ee_bdbb_96000040dfb6row1_col11{\n",
       "            background-color:  #09529d;\n",
       "            color:  #f1f1f1;\n",
       "        }#T_4610200e_e366_11ee_bdbb_96000040dfb6row0_col6,#T_4610200e_e366_11ee_bdbb_96000040dfb6row0_col11,#T_4610200e_e366_11ee_bdbb_96000040dfb6row0_col12,#T_4610200e_e366_11ee_bdbb_96000040dfb6row0_col13,#T_4610200e_e366_11ee_bdbb_96000040dfb6row0_col14,#T_4610200e_e366_11ee_bdbb_96000040dfb6row1_col10,#T_4610200e_e366_11ee_bdbb_96000040dfb6row4_col7,#T_4610200e_e366_11ee_bdbb_96000040dfb6row4_col9,#T_4610200e_e366_11ee_bdbb_96000040dfb6row7_col8,#T_4610200e_e366_11ee_bdbb_96000040dfb6row10_col3,#T_4610200e_e366_11ee_bdbb_96000040dfb6row10_col4,#T_4610200e_e366_11ee_bdbb_96000040dfb6row10_col5,#T_4610200e_e366_11ee_bdbb_96000040dfb6row11_col1,#T_4610200e_e366_11ee_bdbb_96000040dfb6row12_col2{\n",
       "            background-color:  #08306b;\n",
       "            color:  #f1f1f1;\n",
       "        }#T_4610200e_e366_11ee_bdbb_96000040dfb6row0_col7,#T_4610200e_e366_11ee_bdbb_96000040dfb6row2_col9{\n",
       "            background-color:  #5aa2cf;\n",
       "            color:  #000000;\n",
       "        }#T_4610200e_e366_11ee_bdbb_96000040dfb6row0_col8,#T_4610200e_e366_11ee_bdbb_96000040dfb6row6_col3{\n",
       "            background-color:  #135fa7;\n",
       "            color:  #f1f1f1;\n",
       "        }#T_4610200e_e366_11ee_bdbb_96000040dfb6row0_col10,#T_4610200e_e366_11ee_bdbb_96000040dfb6row6_col9{\n",
       "            background-color:  #3d8dc4;\n",
       "            color:  #000000;\n",
       "        }#T_4610200e_e366_11ee_bdbb_96000040dfb6row1_col1{\n",
       "            background-color:  #b5d4e9;\n",
       "            color:  #000000;\n",
       "        }#T_4610200e_e366_11ee_bdbb_96000040dfb6row1_col2{\n",
       "            background-color:  #4a98c9;\n",
       "            color:  #000000;\n",
       "        }#T_4610200e_e366_11ee_bdbb_96000040dfb6row1_col3{\n",
       "            background-color:  #dae8f6;\n",
       "            color:  #000000;\n",
       "        }#T_4610200e_e366_11ee_bdbb_96000040dfb6row1_col4{\n",
       "            background-color:  #08509b;\n",
       "            color:  #f1f1f1;\n",
       "        }#T_4610200e_e366_11ee_bdbb_96000040dfb6row1_col5{\n",
       "            background-color:  #dce9f6;\n",
       "            color:  #000000;\n",
       "        }#T_4610200e_e366_11ee_bdbb_96000040dfb6row1_col6,#T_4610200e_e366_11ee_bdbb_96000040dfb6row8_col2{\n",
       "            background-color:  #7ab6d9;\n",
       "            color:  #000000;\n",
       "        }#T_4610200e_e366_11ee_bdbb_96000040dfb6row1_col7{\n",
       "            background-color:  #1f6eb3;\n",
       "            color:  #f1f1f1;\n",
       "        }#T_4610200e_e366_11ee_bdbb_96000040dfb6row1_col8{\n",
       "            background-color:  #2979b9;\n",
       "            color:  #000000;\n",
       "        }#T_4610200e_e366_11ee_bdbb_96000040dfb6row1_col9{\n",
       "            background-color:  #58a1cf;\n",
       "            color:  #000000;\n",
       "        }#T_4610200e_e366_11ee_bdbb_96000040dfb6row1_col13,#T_4610200e_e366_11ee_bdbb_96000040dfb6row9_col1{\n",
       "            background-color:  #d7e6f5;\n",
       "            color:  #000000;\n",
       "        }#T_4610200e_e366_11ee_bdbb_96000040dfb6row1_col15,#T_4610200e_e366_11ee_bdbb_96000040dfb6row2_col15,#T_4610200e_e366_11ee_bdbb_96000040dfb6row3_col15,#T_4610200e_e366_11ee_bdbb_96000040dfb6row4_col15,#T_4610200e_e366_11ee_bdbb_96000040dfb6row5_col15,#T_4610200e_e366_11ee_bdbb_96000040dfb6row6_col15,#T_4610200e_e366_11ee_bdbb_96000040dfb6row7_col15,#T_4610200e_e366_11ee_bdbb_96000040dfb6row8_col15,#T_4610200e_e366_11ee_bdbb_96000040dfb6row9_col15,#T_4610200e_e366_11ee_bdbb_96000040dfb6row10_col15,#T_4610200e_e366_11ee_bdbb_96000040dfb6row11_col15,#T_4610200e_e366_11ee_bdbb_96000040dfb6row12_col15,#T_4610200e_e366_11ee_bdbb_96000040dfb6row13_col15,#T_4610200e_e366_11ee_bdbb_96000040dfb6row14_col15,#T_4610200e_e366_11ee_bdbb_96000040dfb6row15_col15{\n",
       "            background-color:  #f7fbff;\n",
       "            color:  #000000;\n",
       "            background-color:  white;\n",
       "        }#T_4610200e_e366_11ee_bdbb_96000040dfb6row2_col1{\n",
       "            background-color:  #72b2d8;\n",
       "            color:  #000000;\n",
       "        }#T_4610200e_e366_11ee_bdbb_96000040dfb6row2_col2{\n",
       "            background-color:  #d2e3f3;\n",
       "            color:  #000000;\n",
       "        }#T_4610200e_e366_11ee_bdbb_96000040dfb6row2_col3{\n",
       "            background-color:  #89bedc;\n",
       "            color:  #000000;\n",
       "        }#T_4610200e_e366_11ee_bdbb_96000040dfb6row2_col4{\n",
       "            background-color:  #2373b6;\n",
       "            color:  #f1f1f1;\n",
       "        }#T_4610200e_e366_11ee_bdbb_96000040dfb6row2_col5{\n",
       "            background-color:  #0b559f;\n",
       "            color:  #f1f1f1;\n",
       "        }#T_4610200e_e366_11ee_bdbb_96000040dfb6row2_col6{\n",
       "            background-color:  #2171b5;\n",
       "            color:  #f1f1f1;\n",
       "        }#T_4610200e_e366_11ee_bdbb_96000040dfb6row2_col7,#T_4610200e_e366_11ee_bdbb_96000040dfb6row2_col12{\n",
       "            background-color:  #afd1e7;\n",
       "            color:  #000000;\n",
       "        }#T_4610200e_e366_11ee_bdbb_96000040dfb6row2_col8{\n",
       "            background-color:  #bfd8ed;\n",
       "            color:  #000000;\n",
       "        }#T_4610200e_e366_11ee_bdbb_96000040dfb6row2_col10,#T_4610200e_e366_11ee_bdbb_96000040dfb6row6_col8{\n",
       "            background-color:  #56a0ce;\n",
       "            color:  #000000;\n",
       "        }#T_4610200e_e366_11ee_bdbb_96000040dfb6row2_col11{\n",
       "            background-color:  #0a549e;\n",
       "            color:  #f1f1f1;\n",
       "        }#T_4610200e_e366_11ee_bdbb_96000040dfb6row2_col14,#T_4610200e_e366_11ee_bdbb_96000040dfb6row3_col13,#T_4610200e_e366_11ee_bdbb_96000040dfb6row3_col14,#T_4610200e_e366_11ee_bdbb_96000040dfb6row4_col12,#T_4610200e_e366_11ee_bdbb_96000040dfb6row4_col13,#T_4610200e_e366_11ee_bdbb_96000040dfb6row4_col14,#T_4610200e_e366_11ee_bdbb_96000040dfb6row5_col11,#T_4610200e_e366_11ee_bdbb_96000040dfb6row5_col12,#T_4610200e_e366_11ee_bdbb_96000040dfb6row5_col13,#T_4610200e_e366_11ee_bdbb_96000040dfb6row5_col14,#T_4610200e_e366_11ee_bdbb_96000040dfb6row6_col10,#T_4610200e_e366_11ee_bdbb_96000040dfb6row6_col11,#T_4610200e_e366_11ee_bdbb_96000040dfb6row6_col12,#T_4610200e_e366_11ee_bdbb_96000040dfb6row6_col13,#T_4610200e_e366_11ee_bdbb_96000040dfb6row6_col14,#T_4610200e_e366_11ee_bdbb_96000040dfb6row7_col9,#T_4610200e_e366_11ee_bdbb_96000040dfb6row7_col10,#T_4610200e_e366_11ee_bdbb_96000040dfb6row7_col11,#T_4610200e_e366_11ee_bdbb_96000040dfb6row7_col12,#T_4610200e_e366_11ee_bdbb_96000040dfb6row7_col13,#T_4610200e_e366_11ee_bdbb_96000040dfb6row7_col14,#T_4610200e_e366_11ee_bdbb_96000040dfb6row8_col8,#T_4610200e_e366_11ee_bdbb_96000040dfb6row8_col9,#T_4610200e_e366_11ee_bdbb_96000040dfb6row8_col10,#T_4610200e_e366_11ee_bdbb_96000040dfb6row8_col11,#T_4610200e_e366_11ee_bdbb_96000040dfb6row8_col12,#T_4610200e_e366_11ee_bdbb_96000040dfb6row8_col13,#T_4610200e_e366_11ee_bdbb_96000040dfb6row8_col14,#T_4610200e_e366_11ee_bdbb_96000040dfb6row9_col7,#T_4610200e_e366_11ee_bdbb_96000040dfb6row9_col8,#T_4610200e_e366_11ee_bdbb_96000040dfb6row9_col9,#T_4610200e_e366_11ee_bdbb_96000040dfb6row9_col10,#T_4610200e_e366_11ee_bdbb_96000040dfb6row9_col11,#T_4610200e_e366_11ee_bdbb_96000040dfb6row9_col12,#T_4610200e_e366_11ee_bdbb_96000040dfb6row9_col13,#T_4610200e_e366_11ee_bdbb_96000040dfb6row9_col14,#T_4610200e_e366_11ee_bdbb_96000040dfb6row10_col6,#T_4610200e_e366_11ee_bdbb_96000040dfb6row10_col7,#T_4610200e_e366_11ee_bdbb_96000040dfb6row10_col8,#T_4610200e_e366_11ee_bdbb_96000040dfb6row10_col9,#T_4610200e_e366_11ee_bdbb_96000040dfb6row10_col10,#T_4610200e_e366_11ee_bdbb_96000040dfb6row10_col11,#T_4610200e_e366_11ee_bdbb_96000040dfb6row10_col12,#T_4610200e_e366_11ee_bdbb_96000040dfb6row10_col13,#T_4610200e_e366_11ee_bdbb_96000040dfb6row10_col14,#T_4610200e_e366_11ee_bdbb_96000040dfb6row11_col5,#T_4610200e_e366_11ee_bdbb_96000040dfb6row11_col6,#T_4610200e_e366_11ee_bdbb_96000040dfb6row11_col7,#T_4610200e_e366_11ee_bdbb_96000040dfb6row11_col8,#T_4610200e_e366_11ee_bdbb_96000040dfb6row11_col9,#T_4610200e_e366_11ee_bdbb_96000040dfb6row11_col10,#T_4610200e_e366_11ee_bdbb_96000040dfb6row11_col11,#T_4610200e_e366_11ee_bdbb_96000040dfb6row11_col12,#T_4610200e_e366_11ee_bdbb_96000040dfb6row11_col13,#T_4610200e_e366_11ee_bdbb_96000040dfb6row11_col14,#T_4610200e_e366_11ee_bdbb_96000040dfb6row12_col4,#T_4610200e_e366_11ee_bdbb_96000040dfb6row12_col5,#T_4610200e_e366_11ee_bdbb_96000040dfb6row12_col6,#T_4610200e_e366_11ee_bdbb_96000040dfb6row12_col7,#T_4610200e_e366_11ee_bdbb_96000040dfb6row12_col8,#T_4610200e_e366_11ee_bdbb_96000040dfb6row12_col9,#T_4610200e_e366_11ee_bdbb_96000040dfb6row12_col10,#T_4610200e_e366_11ee_bdbb_96000040dfb6row12_col11,#T_4610200e_e366_11ee_bdbb_96000040dfb6row12_col12,#T_4610200e_e366_11ee_bdbb_96000040dfb6row12_col13,#T_4610200e_e366_11ee_bdbb_96000040dfb6row12_col14,#T_4610200e_e366_11ee_bdbb_96000040dfb6row13_col3,#T_4610200e_e366_11ee_bdbb_96000040dfb6row13_col4,#T_4610200e_e366_11ee_bdbb_96000040dfb6row13_col5,#T_4610200e_e366_11ee_bdbb_96000040dfb6row13_col6,#T_4610200e_e366_11ee_bdbb_96000040dfb6row13_col7,#T_4610200e_e366_11ee_bdbb_96000040dfb6row13_col8,#T_4610200e_e366_11ee_bdbb_96000040dfb6row13_col9,#T_4610200e_e366_11ee_bdbb_96000040dfb6row13_col10,#T_4610200e_e366_11ee_bdbb_96000040dfb6row13_col11,#T_4610200e_e366_11ee_bdbb_96000040dfb6row13_col12,#T_4610200e_e366_11ee_bdbb_96000040dfb6row13_col13,#T_4610200e_e366_11ee_bdbb_96000040dfb6row13_col14,#T_4610200e_e366_11ee_bdbb_96000040dfb6row14_col2,#T_4610200e_e366_11ee_bdbb_96000040dfb6row14_col3,#T_4610200e_e366_11ee_bdbb_96000040dfb6row14_col4,#T_4610200e_e366_11ee_bdbb_96000040dfb6row14_col5,#T_4610200e_e366_11ee_bdbb_96000040dfb6row14_col6,#T_4610200e_e366_11ee_bdbb_96000040dfb6row14_col7,#T_4610200e_e366_11ee_bdbb_96000040dfb6row14_col8,#T_4610200e_e366_11ee_bdbb_96000040dfb6row14_col9,#T_4610200e_e366_11ee_bdbb_96000040dfb6row14_col10,#T_4610200e_e366_11ee_bdbb_96000040dfb6row14_col11,#T_4610200e_e366_11ee_bdbb_96000040dfb6row14_col12,#T_4610200e_e366_11ee_bdbb_96000040dfb6row14_col13,#T_4610200e_e366_11ee_bdbb_96000040dfb6row14_col14,#T_4610200e_e366_11ee_bdbb_96000040dfb6row15_col1,#T_4610200e_e366_11ee_bdbb_96000040dfb6row15_col2,#T_4610200e_e366_11ee_bdbb_96000040dfb6row15_col3,#T_4610200e_e366_11ee_bdbb_96000040dfb6row15_col4,#T_4610200e_e366_11ee_bdbb_96000040dfb6row15_col5,#T_4610200e_e366_11ee_bdbb_96000040dfb6row15_col6,#T_4610200e_e366_11ee_bdbb_96000040dfb6row15_col7,#T_4610200e_e366_11ee_bdbb_96000040dfb6row15_col8,#T_4610200e_e366_11ee_bdbb_96000040dfb6row15_col9,#T_4610200e_e366_11ee_bdbb_96000040dfb6row15_col10,#T_4610200e_e366_11ee_bdbb_96000040dfb6row15_col11,#T_4610200e_e366_11ee_bdbb_96000040dfb6row15_col12,#T_4610200e_e366_11ee_bdbb_96000040dfb6row15_col13,#T_4610200e_e366_11ee_bdbb_96000040dfb6row15_col14{\n",
       "            background-color:  #000000;\n",
       "            color:  #f1f1f1;\n",
       "            background-color:  white;\n",
       "        }#T_4610200e_e366_11ee_bdbb_96000040dfb6row3_col1{\n",
       "            background-color:  #5da5d1;\n",
       "            color:  #000000;\n",
       "        }#T_4610200e_e366_11ee_bdbb_96000040dfb6row3_col3,#T_4610200e_e366_11ee_bdbb_96000040dfb6row8_col1{\n",
       "            background-color:  #4e9acb;\n",
       "            color:  #000000;\n",
       "        }#T_4610200e_e366_11ee_bdbb_96000040dfb6row3_col4{\n",
       "            background-color:  #92c4de;\n",
       "            color:  #000000;\n",
       "        }#T_4610200e_e366_11ee_bdbb_96000040dfb6row3_col5{\n",
       "            background-color:  #ddeaf7;\n",
       "            color:  #000000;\n",
       "        }#T_4610200e_e366_11ee_bdbb_96000040dfb6row3_col6{\n",
       "            background-color:  #a6cee4;\n",
       "            color:  #000000;\n",
       "        }#T_4610200e_e366_11ee_bdbb_96000040dfb6row3_col7{\n",
       "            background-color:  #a3cce3;\n",
       "            color:  #000000;\n",
       "        }#T_4610200e_e366_11ee_bdbb_96000040dfb6row3_col9{\n",
       "            background-color:  #9fcae1;\n",
       "            color:  #000000;\n",
       "        }#T_4610200e_e366_11ee_bdbb_96000040dfb6row3_col10{\n",
       "            background-color:  #4493c7;\n",
       "            color:  #000000;\n",
       "        }#T_4610200e_e366_11ee_bdbb_96000040dfb6row3_col12{\n",
       "            background-color:  #b2d2e8;\n",
       "            color:  #000000;\n",
       "        }#T_4610200e_e366_11ee_bdbb_96000040dfb6row4_col1{\n",
       "            background-color:  #3888c1;\n",
       "            color:  #000000;\n",
       "        }#T_4610200e_e366_11ee_bdbb_96000040dfb6row4_col2{\n",
       "            background-color:  #4191c6;\n",
       "            color:  #000000;\n",
       "        }#T_4610200e_e366_11ee_bdbb_96000040dfb6row4_col3,#T_4610200e_e366_11ee_bdbb_96000040dfb6row4_col11{\n",
       "            background-color:  #3787c0;\n",
       "            color:  #000000;\n",
       "        }#T_4610200e_e366_11ee_bdbb_96000040dfb6row4_col4{\n",
       "            background-color:  #1d6cb1;\n",
       "            color:  #f1f1f1;\n",
       "        }#T_4610200e_e366_11ee_bdbb_96000040dfb6row4_col5{\n",
       "            background-color:  #3989c1;\n",
       "            color:  #000000;\n",
       "        }#T_4610200e_e366_11ee_bdbb_96000040dfb6row4_col8{\n",
       "            background-color:  #61a7d2;\n",
       "            color:  #000000;\n",
       "        }#T_4610200e_e366_11ee_bdbb_96000040dfb6row5_col1{\n",
       "            background-color:  #5fa6d1;\n",
       "            color:  #000000;\n",
       "        }#T_4610200e_e366_11ee_bdbb_96000040dfb6row5_col2{\n",
       "            background-color:  #f2f7fd;\n",
       "            color:  #000000;\n",
       "        }#T_4610200e_e366_11ee_bdbb_96000040dfb6row5_col3{\n",
       "            background-color:  #084a91;\n",
       "            color:  #f1f1f1;\n",
       "        }#T_4610200e_e366_11ee_bdbb_96000040dfb6row5_col4{\n",
       "            background-color:  #4b98ca;\n",
       "            color:  #000000;\n",
       "        }#T_4610200e_e366_11ee_bdbb_96000040dfb6row5_col5,#T_4610200e_e366_11ee_bdbb_96000040dfb6row5_col6,#T_4610200e_e366_11ee_bdbb_96000040dfb6row6_col1{\n",
       "            background-color:  #eef5fc;\n",
       "            color:  #000000;\n",
       "        }#T_4610200e_e366_11ee_bdbb_96000040dfb6row5_col7{\n",
       "            background-color:  #dceaf6;\n",
       "            color:  #000000;\n",
       "        }#T_4610200e_e366_11ee_bdbb_96000040dfb6row5_col8{\n",
       "            background-color:  #64a9d3;\n",
       "            color:  #000000;\n",
       "        }#T_4610200e_e366_11ee_bdbb_96000040dfb6row5_col9{\n",
       "            background-color:  #084488;\n",
       "            color:  #f1f1f1;\n",
       "        }#T_4610200e_e366_11ee_bdbb_96000040dfb6row5_col10{\n",
       "            background-color:  #e0ecf8;\n",
       "            color:  #000000;\n",
       "        }#T_4610200e_e366_11ee_bdbb_96000040dfb6row6_col2{\n",
       "            background-color:  #cde0f1;\n",
       "            color:  #000000;\n",
       "        }#T_4610200e_e366_11ee_bdbb_96000040dfb6row6_col5{\n",
       "            background-color:  #3282be;\n",
       "            color:  #000000;\n",
       "        }#T_4610200e_e366_11ee_bdbb_96000040dfb6row6_col6{\n",
       "            background-color:  #84bcdb;\n",
       "            color:  #000000;\n",
       "        }#T_4610200e_e366_11ee_bdbb_96000040dfb6row6_col7{\n",
       "            background-color:  #c3daee;\n",
       "            color:  #000000;\n",
       "        }#T_4610200e_e366_11ee_bdbb_96000040dfb6row7_col1{\n",
       "            background-color:  #e2edf8;\n",
       "            color:  #000000;\n",
       "        }#T_4610200e_e366_11ee_bdbb_96000040dfb6row7_col2,#T_4610200e_e366_11ee_bdbb_96000040dfb6row9_col5{\n",
       "            background-color:  #eaf3fb;\n",
       "            color:  #000000;\n",
       "        }#T_4610200e_e366_11ee_bdbb_96000040dfb6row7_col3{\n",
       "            background-color:  #084184;\n",
       "            color:  #f1f1f1;\n",
       "        }#T_4610200e_e366_11ee_bdbb_96000040dfb6row7_col4{\n",
       "            background-color:  #a4cce3;\n",
       "            color:  #000000;\n",
       "        }#T_4610200e_e366_11ee_bdbb_96000040dfb6row7_col6{\n",
       "            background-color:  #9ac8e0;\n",
       "            color:  #000000;\n",
       "        }#T_4610200e_e366_11ee_bdbb_96000040dfb6row8_col4{\n",
       "            background-color:  #5ba3d0;\n",
       "            color:  #000000;\n",
       "        }#T_4610200e_e366_11ee_bdbb_96000040dfb6row8_col5{\n",
       "            background-color:  #1a68ae;\n",
       "            color:  #f1f1f1;\n",
       "        }#T_4610200e_e366_11ee_bdbb_96000040dfb6row8_col6{\n",
       "            background-color:  #1c6bb0;\n",
       "            color:  #f1f1f1;\n",
       "        }#T_4610200e_e366_11ee_bdbb_96000040dfb6row8_col7{\n",
       "            background-color:  #cfe1f2;\n",
       "            color:  #000000;\n",
       "        }#T_4610200e_e366_11ee_bdbb_96000040dfb6row9_col2{\n",
       "            background-color:  #7cb7da;\n",
       "            color:  #000000;\n",
       "        }#T_4610200e_e366_11ee_bdbb_96000040dfb6row9_col3,#T_4610200e_e366_11ee_bdbb_96000040dfb6row9_col4{\n",
       "            background-color:  #0e59a2;\n",
       "            color:  #f1f1f1;\n",
       "        }#T_4610200e_e366_11ee_bdbb_96000040dfb6row9_col6{\n",
       "            background-color:  #60a7d2;\n",
       "            color:  #000000;\n",
       "        }#T_4610200e_e366_11ee_bdbb_96000040dfb6row10_col1{\n",
       "            background-color:  #125ea6;\n",
       "            color:  #f1f1f1;\n",
       "        }#T_4610200e_e366_11ee_bdbb_96000040dfb6row10_col2{\n",
       "            background-color:  #b3d3e8;\n",
       "            color:  #000000;\n",
       "        }#T_4610200e_e366_11ee_bdbb_96000040dfb6row11_col2{\n",
       "            background-color:  #9cc9e1;\n",
       "            color:  #000000;\n",
       "        }#T_4610200e_e366_11ee_bdbb_96000040dfb6row11_col3,#T_4610200e_e366_11ee_bdbb_96000040dfb6row14_col1{\n",
       "            background-color:  #66abd4;\n",
       "            color:  #000000;\n",
       "        }#T_4610200e_e366_11ee_bdbb_96000040dfb6row11_col4{\n",
       "            background-color:  #bed8ec;\n",
       "            color:  #000000;\n",
       "        }#T_4610200e_e366_11ee_bdbb_96000040dfb6row12_col1{\n",
       "            background-color:  #519ccc;\n",
       "            color:  #000000;\n",
       "        }#T_4610200e_e366_11ee_bdbb_96000040dfb6row12_col3{\n",
       "            background-color:  #1966ad;\n",
       "            color:  #f1f1f1;\n",
       "        }#T_4610200e_e366_11ee_bdbb_96000040dfb6row13_col1{\n",
       "            background-color:  #2070b4;\n",
       "            color:  #f1f1f1;\n",
       "        }#T_4610200e_e366_11ee_bdbb_96000040dfb6row13_col2{\n",
       "            background-color:  #91c3de;\n",
       "            color:  #000000;\n",
       "        }</style><table id=\"T_4610200e_e366_11ee_bdbb_96000040dfb6\" ><caption>User retention by cohort</caption><thead>    <tr>        <th class=\"index_name level0\" >days</th>        <th class=\"col_heading level0 col0\" >0</th>        <th class=\"col_heading level0 col1\" >1</th>        <th class=\"col_heading level0 col2\" >2</th>        <th class=\"col_heading level0 col3\" >3</th>        <th class=\"col_heading level0 col4\" >4</th>        <th class=\"col_heading level0 col5\" >5</th>        <th class=\"col_heading level0 col6\" >6</th>        <th class=\"col_heading level0 col7\" >7</th>        <th class=\"col_heading level0 col8\" >8</th>        <th class=\"col_heading level0 col9\" >9</th>        <th class=\"col_heading level0 col10\" >10</th>        <th class=\"col_heading level0 col11\" >11</th>        <th class=\"col_heading level0 col12\" >12</th>        <th class=\"col_heading level0 col13\" >13</th>        <th class=\"col_heading level0 col14\" >14</th>        <th class=\"col_heading level0 col15\" >15</th>    </tr>    <tr>        <th class=\"index_name level0\" >Registration_date</th>        <th class=\"blank\" ></th>        <th class=\"blank\" ></th>        <th class=\"blank\" ></th>        <th class=\"blank\" ></th>        <th class=\"blank\" ></th>        <th class=\"blank\" ></th>        <th class=\"blank\" ></th>        <th class=\"blank\" ></th>        <th class=\"blank\" ></th>        <th class=\"blank\" ></th>        <th class=\"blank\" ></th>        <th class=\"blank\" ></th>        <th class=\"blank\" ></th>        <th class=\"blank\" ></th>        <th class=\"blank\" ></th>        <th class=\"blank\" ></th>    </tr></thead><tbody>\n",
       "                <tr>\n",
       "                        <th id=\"T_4610200e_e366_11ee_bdbb_96000040dfb6level0_row0\" class=\"row_heading level0 row0\" >2020-06-10</th>\n",
       "                        <td id=\"T_4610200e_e366_11ee_bdbb_96000040dfb6row0_col0\" class=\"data row0 col0\" >100.00%</td>\n",
       "                        <td id=\"T_4610200e_e366_11ee_bdbb_96000040dfb6row0_col1\" class=\"data row0 col1\" >1.37%</td>\n",
       "                        <td id=\"T_4610200e_e366_11ee_bdbb_96000040dfb6row0_col2\" class=\"data row0 col2\" >3.76%</td>\n",
       "                        <td id=\"T_4610200e_e366_11ee_bdbb_96000040dfb6row0_col3\" class=\"data row0 col3\" >4.77%</td>\n",
       "                        <td id=\"T_4610200e_e366_11ee_bdbb_96000040dfb6row0_col4\" class=\"data row0 col4\" >4.77%</td>\n",
       "                        <td id=\"T_4610200e_e366_11ee_bdbb_96000040dfb6row0_col5\" class=\"data row0 col5\" >6.80%</td>\n",
       "                        <td id=\"T_4610200e_e366_11ee_bdbb_96000040dfb6row0_col6\" class=\"data row0 col6\" >8.53%</td>\n",
       "                        <td id=\"T_4610200e_e366_11ee_bdbb_96000040dfb6row0_col7\" class=\"data row0 col7\" >5.78%</td>\n",
       "                        <td id=\"T_4610200e_e366_11ee_bdbb_96000040dfb6row0_col8\" class=\"data row0 col8\" >5.28%</td>\n",
       "                        <td id=\"T_4610200e_e366_11ee_bdbb_96000040dfb6row0_col9\" class=\"data row0 col9\" >4.05%</td>\n",
       "                        <td id=\"T_4610200e_e366_11ee_bdbb_96000040dfb6row0_col10\" class=\"data row0 col10\" >5.28%</td>\n",
       "                        <td id=\"T_4610200e_e366_11ee_bdbb_96000040dfb6row0_col11\" class=\"data row0 col11\" >5.42%</td>\n",
       "                        <td id=\"T_4610200e_e366_11ee_bdbb_96000040dfb6row0_col12\" class=\"data row0 col12\" >5.42%</td>\n",
       "                        <td id=\"T_4610200e_e366_11ee_bdbb_96000040dfb6row0_col13\" class=\"data row0 col13\" >5.78%</td>\n",
       "                        <td id=\"T_4610200e_e366_11ee_bdbb_96000040dfb6row0_col14\" class=\"data row0 col14\" >4.34%</td>\n",
       "                        <td id=\"T_4610200e_e366_11ee_bdbb_96000040dfb6row0_col15\" class=\"data row0 col15\" >5.06%</td>\n",
       "            </tr>\n",
       "            <tr>\n",
       "                        <th id=\"T_4610200e_e366_11ee_bdbb_96000040dfb6level0_row1\" class=\"row_heading level0 row1\" >2020-06-11</th>\n",
       "                        <td id=\"T_4610200e_e366_11ee_bdbb_96000040dfb6row1_col0\" class=\"data row1 col0\" >100.00%</td>\n",
       "                        <td id=\"T_4610200e_e366_11ee_bdbb_96000040dfb6row1_col1\" class=\"data row1 col1\" >1.73%</td>\n",
       "                        <td id=\"T_4610200e_e366_11ee_bdbb_96000040dfb6row1_col2\" class=\"data row1 col2\" >4.47%</td>\n",
       "                        <td id=\"T_4610200e_e366_11ee_bdbb_96000040dfb6row1_col3\" class=\"data row1 col3\" >3.82%</td>\n",
       "                        <td id=\"T_4610200e_e366_11ee_bdbb_96000040dfb6row1_col4\" class=\"data row1 col4\" >6.13%</td>\n",
       "                        <td id=\"T_4610200e_e366_11ee_bdbb_96000040dfb6row1_col5\" class=\"data row1 col5\" >5.41%</td>\n",
       "                        <td id=\"T_4610200e_e366_11ee_bdbb_96000040dfb6row1_col6\" class=\"data row1 col6\" >7.07%</td>\n",
       "                        <td id=\"T_4610200e_e366_11ee_bdbb_96000040dfb6row1_col7\" class=\"data row1 col7\" >6.13%</td>\n",
       "                        <td id=\"T_4610200e_e366_11ee_bdbb_96000040dfb6row1_col8\" class=\"data row1 col8\" >5.12%</td>\n",
       "                        <td id=\"T_4610200e_e366_11ee_bdbb_96000040dfb6row1_col9\" class=\"data row1 col9\" >5.19%</td>\n",
       "                        <td id=\"T_4610200e_e366_11ee_bdbb_96000040dfb6row1_col10\" class=\"data row1 col10\" >5.70%</td>\n",
       "                        <td id=\"T_4610200e_e366_11ee_bdbb_96000040dfb6row1_col11\" class=\"data row1 col11\" >5.27%</td>\n",
       "                        <td id=\"T_4610200e_e366_11ee_bdbb_96000040dfb6row1_col12\" class=\"data row1 col12\" >4.55%</td>\n",
       "                        <td id=\"T_4610200e_e366_11ee_bdbb_96000040dfb6row1_col13\" class=\"data row1 col13\" >4.62%</td>\n",
       "                        <td id=\"T_4610200e_e366_11ee_bdbb_96000040dfb6row1_col14\" class=\"data row1 col14\" >3.54%</td>\n",
       "                        <td id=\"T_4610200e_e366_11ee_bdbb_96000040dfb6row1_col15\" class=\"data row1 col15\" ></td>\n",
       "            </tr>\n",
       "            <tr>\n",
       "                        <th id=\"T_4610200e_e366_11ee_bdbb_96000040dfb6level0_row2\" class=\"row_heading level0 row2\" >2020-06-12</th>\n",
       "                        <td id=\"T_4610200e_e366_11ee_bdbb_96000040dfb6row2_col0\" class=\"data row2 col0\" >100.00%</td>\n",
       "                        <td id=\"T_4610200e_e366_11ee_bdbb_96000040dfb6row2_col1\" class=\"data row2 col1\" >1.95%</td>\n",
       "                        <td id=\"T_4610200e_e366_11ee_bdbb_96000040dfb6row2_col2\" class=\"data row2 col2\" >3.67%</td>\n",
       "                        <td id=\"T_4610200e_e366_11ee_bdbb_96000040dfb6row2_col3\" class=\"data row2 col3\" >4.32%</td>\n",
       "                        <td id=\"T_4610200e_e366_11ee_bdbb_96000040dfb6row2_col4\" class=\"data row2 col4\" >5.84%</td>\n",
       "                        <td id=\"T_4610200e_e366_11ee_bdbb_96000040dfb6row2_col5\" class=\"data row2 col5\" >6.77%</td>\n",
       "                        <td id=\"T_4610200e_e366_11ee_bdbb_96000040dfb6row2_col6\" class=\"data row2 col6\" >7.85%</td>\n",
       "                        <td id=\"T_4610200e_e366_11ee_bdbb_96000040dfb6row2_col7\" class=\"data row2 col7\" >5.40%</td>\n",
       "                        <td id=\"T_4610200e_e366_11ee_bdbb_96000040dfb6row2_col8\" class=\"data row2 col8\" >4.39%</td>\n",
       "                        <td id=\"T_4610200e_e366_11ee_bdbb_96000040dfb6row2_col9\" class=\"data row2 col9\" >5.19%</td>\n",
       "                        <td id=\"T_4610200e_e366_11ee_bdbb_96000040dfb6row2_col10\" class=\"data row2 col10\" >5.19%</td>\n",
       "                        <td id=\"T_4610200e_e366_11ee_bdbb_96000040dfb6row2_col11\" class=\"data row2 col11\" >5.26%</td>\n",
       "                        <td id=\"T_4610200e_e366_11ee_bdbb_96000040dfb6row2_col12\" class=\"data row2 col12\" >4.83%</td>\n",
       "                        <td id=\"T_4610200e_e366_11ee_bdbb_96000040dfb6row2_col13\" class=\"data row2 col13\" >4.39%</td>\n",
       "                        <td id=\"T_4610200e_e366_11ee_bdbb_96000040dfb6row2_col14\" class=\"data row2 col14\" ></td>\n",
       "                        <td id=\"T_4610200e_e366_11ee_bdbb_96000040dfb6row2_col15\" class=\"data row2 col15\" ></td>\n",
       "            </tr>\n",
       "            <tr>\n",
       "                        <th id=\"T_4610200e_e366_11ee_bdbb_96000040dfb6level0_row3\" class=\"row_heading level0 row3\" >2020-06-13</th>\n",
       "                        <td id=\"T_4610200e_e366_11ee_bdbb_96000040dfb6row3_col0\" class=\"data row3 col0\" >100.00%</td>\n",
       "                        <td id=\"T_4610200e_e366_11ee_bdbb_96000040dfb6row3_col1\" class=\"data row3 col1\" >2.01%</td>\n",
       "                        <td id=\"T_4610200e_e366_11ee_bdbb_96000040dfb6row3_col2\" class=\"data row3 col2\" >3.31%</td>\n",
       "                        <td id=\"T_4610200e_e366_11ee_bdbb_96000040dfb6row3_col3\" class=\"data row3 col3\" >4.60%</td>\n",
       "                        <td id=\"T_4610200e_e366_11ee_bdbb_96000040dfb6row3_col4\" class=\"data row3 col4\" >5.11%</td>\n",
       "                        <td id=\"T_4610200e_e366_11ee_bdbb_96000040dfb6row3_col5\" class=\"data row3 col5\" >5.40%</td>\n",
       "                        <td id=\"T_4610200e_e366_11ee_bdbb_96000040dfb6row3_col6\" class=\"data row3 col6\" >6.76%</td>\n",
       "                        <td id=\"T_4610200e_e366_11ee_bdbb_96000040dfb6row3_col7\" class=\"data row3 col7\" >5.47%</td>\n",
       "                        <td id=\"T_4610200e_e366_11ee_bdbb_96000040dfb6row3_col8\" class=\"data row3 col8\" >3.96%</td>\n",
       "                        <td id=\"T_4610200e_e366_11ee_bdbb_96000040dfb6row3_col9\" class=\"data row3 col9\" >4.82%</td>\n",
       "                        <td id=\"T_4610200e_e366_11ee_bdbb_96000040dfb6row3_col10\" class=\"data row3 col10\" >5.25%</td>\n",
       "                        <td id=\"T_4610200e_e366_11ee_bdbb_96000040dfb6row3_col11\" class=\"data row3 col11\" >4.24%</td>\n",
       "                        <td id=\"T_4610200e_e366_11ee_bdbb_96000040dfb6row3_col12\" class=\"data row3 col12\" >4.82%</td>\n",
       "                        <td id=\"T_4610200e_e366_11ee_bdbb_96000040dfb6row3_col13\" class=\"data row3 col13\" ></td>\n",
       "                        <td id=\"T_4610200e_e366_11ee_bdbb_96000040dfb6row3_col14\" class=\"data row3 col14\" ></td>\n",
       "                        <td id=\"T_4610200e_e366_11ee_bdbb_96000040dfb6row3_col15\" class=\"data row3 col15\" ></td>\n",
       "            </tr>\n",
       "            <tr>\n",
       "                        <th id=\"T_4610200e_e366_11ee_bdbb_96000040dfb6level0_row4\" class=\"row_heading level0 row4\" >2020-06-14</th>\n",
       "                        <td id=\"T_4610200e_e366_11ee_bdbb_96000040dfb6row4_col0\" class=\"data row4 col0\" >100.00%</td>\n",
       "                        <td id=\"T_4610200e_e366_11ee_bdbb_96000040dfb6row4_col1\" class=\"data row4 col1\" >2.16%</td>\n",
       "                        <td id=\"T_4610200e_e366_11ee_bdbb_96000040dfb6row4_col2\" class=\"data row4 col2\" >4.53%</td>\n",
       "                        <td id=\"T_4610200e_e366_11ee_bdbb_96000040dfb6row4_col3\" class=\"data row4 col3\" >4.74%</td>\n",
       "                        <td id=\"T_4610200e_e366_11ee_bdbb_96000040dfb6row4_col4\" class=\"data row4 col4\" >5.89%</td>\n",
       "                        <td id=\"T_4610200e_e366_11ee_bdbb_96000040dfb6row4_col5\" class=\"data row4 col5\" >6.39%</td>\n",
       "                        <td id=\"T_4610200e_e366_11ee_bdbb_96000040dfb6row4_col6\" class=\"data row4 col6\" >5.82%</td>\n",
       "                        <td id=\"T_4610200e_e366_11ee_bdbb_96000040dfb6row4_col7\" class=\"data row4 col7\" >6.54%</td>\n",
       "                        <td id=\"T_4610200e_e366_11ee_bdbb_96000040dfb6row4_col8\" class=\"data row4 col8\" >4.81%</td>\n",
       "                        <td id=\"T_4610200e_e366_11ee_bdbb_96000040dfb6row4_col9\" class=\"data row4 col9\" >6.11%</td>\n",
       "                        <td id=\"T_4610200e_e366_11ee_bdbb_96000040dfb6row4_col10\" class=\"data row4 col10\" >4.53%</td>\n",
       "                        <td id=\"T_4610200e_e366_11ee_bdbb_96000040dfb6row4_col11\" class=\"data row4 col11\" >5.03%</td>\n",
       "                        <td id=\"T_4610200e_e366_11ee_bdbb_96000040dfb6row4_col12\" class=\"data row4 col12\" ></td>\n",
       "                        <td id=\"T_4610200e_e366_11ee_bdbb_96000040dfb6row4_col13\" class=\"data row4 col13\" ></td>\n",
       "                        <td id=\"T_4610200e_e366_11ee_bdbb_96000040dfb6row4_col14\" class=\"data row4 col14\" ></td>\n",
       "                        <td id=\"T_4610200e_e366_11ee_bdbb_96000040dfb6row4_col15\" class=\"data row4 col15\" ></td>\n",
       "            </tr>\n",
       "            <tr>\n",
       "                        <th id=\"T_4610200e_e366_11ee_bdbb_96000040dfb6level0_row5\" class=\"row_heading level0 row5\" >2020-06-15</th>\n",
       "                        <td id=\"T_4610200e_e366_11ee_bdbb_96000040dfb6row5_col0\" class=\"data row5 col0\" >100.00%</td>\n",
       "                        <td id=\"T_4610200e_e366_11ee_bdbb_96000040dfb6row5_col1\" class=\"data row5 col1\" >2.01%</td>\n",
       "                        <td id=\"T_4610200e_e366_11ee_bdbb_96000040dfb6row5_col2\" class=\"data row5 col2\" >3.37%</td>\n",
       "                        <td id=\"T_4610200e_e366_11ee_bdbb_96000040dfb6row5_col3\" class=\"data row5 col3\" >5.16%</td>\n",
       "                        <td id=\"T_4610200e_e366_11ee_bdbb_96000040dfb6row5_col4\" class=\"data row5 col4\" >5.52%</td>\n",
       "                        <td id=\"T_4610200e_e366_11ee_bdbb_96000040dfb6row5_col5\" class=\"data row5 col5\" >5.23%</td>\n",
       "                        <td id=\"T_4610200e_e366_11ee_bdbb_96000040dfb6row5_col6\" class=\"data row5 col6\" >5.95%</td>\n",
       "                        <td id=\"T_4610200e_e366_11ee_bdbb_96000040dfb6row5_col7\" class=\"data row5 col7\" >5.09%</td>\n",
       "                        <td id=\"T_4610200e_e366_11ee_bdbb_96000040dfb6row5_col8\" class=\"data row5 col8\" >4.80%</td>\n",
       "                        <td id=\"T_4610200e_e366_11ee_bdbb_96000040dfb6row5_col9\" class=\"data row5 col9\" >5.95%</td>\n",
       "                        <td id=\"T_4610200e_e366_11ee_bdbb_96000040dfb6row5_col10\" class=\"data row5 col10\" >4.66%</td>\n",
       "                        <td id=\"T_4610200e_e366_11ee_bdbb_96000040dfb6row5_col11\" class=\"data row5 col11\" ></td>\n",
       "                        <td id=\"T_4610200e_e366_11ee_bdbb_96000040dfb6row5_col12\" class=\"data row5 col12\" ></td>\n",
       "                        <td id=\"T_4610200e_e366_11ee_bdbb_96000040dfb6row5_col13\" class=\"data row5 col13\" ></td>\n",
       "                        <td id=\"T_4610200e_e366_11ee_bdbb_96000040dfb6row5_col14\" class=\"data row5 col14\" ></td>\n",
       "                        <td id=\"T_4610200e_e366_11ee_bdbb_96000040dfb6row5_col15\" class=\"data row5 col15\" ></td>\n",
       "            </tr>\n",
       "            <tr>\n",
       "                        <th id=\"T_4610200e_e366_11ee_bdbb_96000040dfb6level0_row6\" class=\"row_heading level0 row6\" >2020-06-16</th>\n",
       "                        <td id=\"T_4610200e_e366_11ee_bdbb_96000040dfb6row6_col0\" class=\"data row6 col0\" >100.00%</td>\n",
       "                        <td id=\"T_4610200e_e366_11ee_bdbb_96000040dfb6row6_col1\" class=\"data row6 col1\" >1.43%</td>\n",
       "                        <td id=\"T_4610200e_e366_11ee_bdbb_96000040dfb6row6_col2\" class=\"data row6 col2\" >3.72%</td>\n",
       "                        <td id=\"T_4610200e_e366_11ee_bdbb_96000040dfb6row6_col3\" class=\"data row6 col3\" >5.01%</td>\n",
       "                        <td id=\"T_4610200e_e366_11ee_bdbb_96000040dfb6row6_col4\" class=\"data row6 col4\" >4.22%</td>\n",
       "                        <td id=\"T_4610200e_e366_11ee_bdbb_96000040dfb6row6_col5\" class=\"data row6 col5\" >6.44%</td>\n",
       "                        <td id=\"T_4610200e_e366_11ee_bdbb_96000040dfb6row6_col6\" class=\"data row6 col6\" >7.02%</td>\n",
       "                        <td id=\"T_4610200e_e366_11ee_bdbb_96000040dfb6row6_col7\" class=\"data row6 col7\" >5.30%</td>\n",
       "                        <td id=\"T_4610200e_e366_11ee_bdbb_96000040dfb6row6_col8\" class=\"data row6 col8\" >4.87%</td>\n",
       "                        <td id=\"T_4610200e_e366_11ee_bdbb_96000040dfb6row6_col9\" class=\"data row6 col9\" >5.37%</td>\n",
       "                        <td id=\"T_4610200e_e366_11ee_bdbb_96000040dfb6row6_col10\" class=\"data row6 col10\" ></td>\n",
       "                        <td id=\"T_4610200e_e366_11ee_bdbb_96000040dfb6row6_col11\" class=\"data row6 col11\" ></td>\n",
       "                        <td id=\"T_4610200e_e366_11ee_bdbb_96000040dfb6row6_col12\" class=\"data row6 col12\" ></td>\n",
       "                        <td id=\"T_4610200e_e366_11ee_bdbb_96000040dfb6row6_col13\" class=\"data row6 col13\" ></td>\n",
       "                        <td id=\"T_4610200e_e366_11ee_bdbb_96000040dfb6row6_col14\" class=\"data row6 col14\" ></td>\n",
       "                        <td id=\"T_4610200e_e366_11ee_bdbb_96000040dfb6row6_col15\" class=\"data row6 col15\" ></td>\n",
       "            </tr>\n",
       "            <tr>\n",
       "                        <th id=\"T_4610200e_e366_11ee_bdbb_96000040dfb6level0_row7\" class=\"row_heading level0 row7\" >2020-06-17</th>\n",
       "                        <td id=\"T_4610200e_e366_11ee_bdbb_96000040dfb6row7_col0\" class=\"data row7 col0\" >100.00%</td>\n",
       "                        <td id=\"T_4610200e_e366_11ee_bdbb_96000040dfb6row7_col1\" class=\"data row7 col1\" >1.50%</td>\n",
       "                        <td id=\"T_4610200e_e366_11ee_bdbb_96000040dfb6row7_col2\" class=\"data row7 col2\" >3.43%</td>\n",
       "                        <td id=\"T_4610200e_e366_11ee_bdbb_96000040dfb6row7_col3\" class=\"data row7 col3\" >5.22%</td>\n",
       "                        <td id=\"T_4610200e_e366_11ee_bdbb_96000040dfb6row7_col4\" class=\"data row7 col4\" >5.00%</td>\n",
       "                        <td id=\"T_4610200e_e366_11ee_bdbb_96000040dfb6row7_col5\" class=\"data row7 col5\" >5.15%</td>\n",
       "                        <td id=\"T_4610200e_e366_11ee_bdbb_96000040dfb6row7_col6\" class=\"data row7 col6\" >6.86%</td>\n",
       "                        <td id=\"T_4610200e_e366_11ee_bdbb_96000040dfb6row7_col7\" class=\"data row7 col7\" >4.86%</td>\n",
       "                        <td id=\"T_4610200e_e366_11ee_bdbb_96000040dfb6row7_col8\" class=\"data row7 col8\" >5.58%</td>\n",
       "                        <td id=\"T_4610200e_e366_11ee_bdbb_96000040dfb6row7_col9\" class=\"data row7 col9\" ></td>\n",
       "                        <td id=\"T_4610200e_e366_11ee_bdbb_96000040dfb6row7_col10\" class=\"data row7 col10\" ></td>\n",
       "                        <td id=\"T_4610200e_e366_11ee_bdbb_96000040dfb6row7_col11\" class=\"data row7 col11\" ></td>\n",
       "                        <td id=\"T_4610200e_e366_11ee_bdbb_96000040dfb6row7_col12\" class=\"data row7 col12\" ></td>\n",
       "                        <td id=\"T_4610200e_e366_11ee_bdbb_96000040dfb6row7_col13\" class=\"data row7 col13\" ></td>\n",
       "                        <td id=\"T_4610200e_e366_11ee_bdbb_96000040dfb6row7_col14\" class=\"data row7 col14\" ></td>\n",
       "                        <td id=\"T_4610200e_e366_11ee_bdbb_96000040dfb6row7_col15\" class=\"data row7 col15\" ></td>\n",
       "            </tr>\n",
       "            <tr>\n",
       "                        <th id=\"T_4610200e_e366_11ee_bdbb_96000040dfb6level0_row8\" class=\"row_heading level0 row8\" >2020-06-18</th>\n",
       "                        <td id=\"T_4610200e_e366_11ee_bdbb_96000040dfb6row8_col0\" class=\"data row8 col0\" >100.00%</td>\n",
       "                        <td id=\"T_4610200e_e366_11ee_bdbb_96000040dfb6row8_col1\" class=\"data row8 col1\" >2.07%</td>\n",
       "                        <td id=\"T_4610200e_e366_11ee_bdbb_96000040dfb6row8_col2\" class=\"data row8 col2\" >4.21%</td>\n",
       "                        <td id=\"T_4610200e_e366_11ee_bdbb_96000040dfb6row8_col3\" class=\"data row8 col3\" >3.57%</td>\n",
       "                        <td id=\"T_4610200e_e366_11ee_bdbb_96000040dfb6row8_col4\" class=\"data row8 col4\" >5.42%</td>\n",
       "                        <td id=\"T_4610200e_e366_11ee_bdbb_96000040dfb6row8_col5\" class=\"data row8 col5\" >6.63%</td>\n",
       "                        <td id=\"T_4610200e_e366_11ee_bdbb_96000040dfb6row8_col6\" class=\"data row8 col6\" >7.92%</td>\n",
       "                        <td id=\"T_4610200e_e366_11ee_bdbb_96000040dfb6row8_col7\" class=\"data row8 col7\" >5.21%</td>\n",
       "                        <td id=\"T_4610200e_e366_11ee_bdbb_96000040dfb6row8_col8\" class=\"data row8 col8\" ></td>\n",
       "                        <td id=\"T_4610200e_e366_11ee_bdbb_96000040dfb6row8_col9\" class=\"data row8 col9\" ></td>\n",
       "                        <td id=\"T_4610200e_e366_11ee_bdbb_96000040dfb6row8_col10\" class=\"data row8 col10\" ></td>\n",
       "                        <td id=\"T_4610200e_e366_11ee_bdbb_96000040dfb6row8_col11\" class=\"data row8 col11\" ></td>\n",
       "                        <td id=\"T_4610200e_e366_11ee_bdbb_96000040dfb6row8_col12\" class=\"data row8 col12\" ></td>\n",
       "                        <td id=\"T_4610200e_e366_11ee_bdbb_96000040dfb6row8_col13\" class=\"data row8 col13\" ></td>\n",
       "                        <td id=\"T_4610200e_e366_11ee_bdbb_96000040dfb6row8_col14\" class=\"data row8 col14\" ></td>\n",
       "                        <td id=\"T_4610200e_e366_11ee_bdbb_96000040dfb6row8_col15\" class=\"data row8 col15\" ></td>\n",
       "            </tr>\n",
       "            <tr>\n",
       "                        <th id=\"T_4610200e_e366_11ee_bdbb_96000040dfb6level0_row9\" class=\"row_heading level0 row9\" >2020-06-19</th>\n",
       "                        <td id=\"T_4610200e_e366_11ee_bdbb_96000040dfb6row9_col0\" class=\"data row9 col0\" >100.00%</td>\n",
       "                        <td id=\"T_4610200e_e366_11ee_bdbb_96000040dfb6row9_col1\" class=\"data row9 col1\" >1.57%</td>\n",
       "                        <td id=\"T_4610200e_e366_11ee_bdbb_96000040dfb6row9_col2\" class=\"data row9 col2\" >4.20%</td>\n",
       "                        <td id=\"T_4610200e_e366_11ee_bdbb_96000040dfb6row9_col3\" class=\"data row9 col3\" >5.06%</td>\n",
       "                        <td id=\"T_4610200e_e366_11ee_bdbb_96000040dfb6row9_col4\" class=\"data row9 col4\" >6.05%</td>\n",
       "                        <td id=\"T_4610200e_e366_11ee_bdbb_96000040dfb6row9_col5\" class=\"data row9 col5\" >5.27%</td>\n",
       "                        <td id=\"T_4610200e_e366_11ee_bdbb_96000040dfb6row9_col6\" class=\"data row9 col6\" >7.26%</td>\n",
       "                        <td id=\"T_4610200e_e366_11ee_bdbb_96000040dfb6row9_col7\" class=\"data row9 col7\" ></td>\n",
       "                        <td id=\"T_4610200e_e366_11ee_bdbb_96000040dfb6row9_col8\" class=\"data row9 col8\" ></td>\n",
       "                        <td id=\"T_4610200e_e366_11ee_bdbb_96000040dfb6row9_col9\" class=\"data row9 col9\" ></td>\n",
       "                        <td id=\"T_4610200e_e366_11ee_bdbb_96000040dfb6row9_col10\" class=\"data row9 col10\" ></td>\n",
       "                        <td id=\"T_4610200e_e366_11ee_bdbb_96000040dfb6row9_col11\" class=\"data row9 col11\" ></td>\n",
       "                        <td id=\"T_4610200e_e366_11ee_bdbb_96000040dfb6row9_col12\" class=\"data row9 col12\" ></td>\n",
       "                        <td id=\"T_4610200e_e366_11ee_bdbb_96000040dfb6row9_col13\" class=\"data row9 col13\" ></td>\n",
       "                        <td id=\"T_4610200e_e366_11ee_bdbb_96000040dfb6row9_col14\" class=\"data row9 col14\" ></td>\n",
       "                        <td id=\"T_4610200e_e366_11ee_bdbb_96000040dfb6row9_col15\" class=\"data row9 col15\" ></td>\n",
       "            </tr>\n",
       "            <tr>\n",
       "                        <th id=\"T_4610200e_e366_11ee_bdbb_96000040dfb6level0_row10\" class=\"row_heading level0 row10\" >2020-06-20</th>\n",
       "                        <td id=\"T_4610200e_e366_11ee_bdbb_96000040dfb6row10_col0\" class=\"data row10 col0\" >100.00%</td>\n",
       "                        <td id=\"T_4610200e_e366_11ee_bdbb_96000040dfb6row10_col1\" class=\"data row10 col1\" >2.35%</td>\n",
       "                        <td id=\"T_4610200e_e366_11ee_bdbb_96000040dfb6row10_col2\" class=\"data row10 col2\" >3.91%</td>\n",
       "                        <td id=\"T_4610200e_e366_11ee_bdbb_96000040dfb6row10_col3\" class=\"data row10 col3\" >5.33%</td>\n",
       "                        <td id=\"T_4610200e_e366_11ee_bdbb_96000040dfb6row10_col4\" class=\"data row10 col4\" >6.40%</td>\n",
       "                        <td id=\"T_4610200e_e366_11ee_bdbb_96000040dfb6row10_col5\" class=\"data row10 col5\" >7.04%</td>\n",
       "                        <td id=\"T_4610200e_e366_11ee_bdbb_96000040dfb6row10_col6\" class=\"data row10 col6\" ></td>\n",
       "                        <td id=\"T_4610200e_e366_11ee_bdbb_96000040dfb6row10_col7\" class=\"data row10 col7\" ></td>\n",
       "                        <td id=\"T_4610200e_e366_11ee_bdbb_96000040dfb6row10_col8\" class=\"data row10 col8\" ></td>\n",
       "                        <td id=\"T_4610200e_e366_11ee_bdbb_96000040dfb6row10_col9\" class=\"data row10 col9\" ></td>\n",
       "                        <td id=\"T_4610200e_e366_11ee_bdbb_96000040dfb6row10_col10\" class=\"data row10 col10\" ></td>\n",
       "                        <td id=\"T_4610200e_e366_11ee_bdbb_96000040dfb6row10_col11\" class=\"data row10 col11\" ></td>\n",
       "                        <td id=\"T_4610200e_e366_11ee_bdbb_96000040dfb6row10_col12\" class=\"data row10 col12\" ></td>\n",
       "                        <td id=\"T_4610200e_e366_11ee_bdbb_96000040dfb6row10_col13\" class=\"data row10 col13\" ></td>\n",
       "                        <td id=\"T_4610200e_e366_11ee_bdbb_96000040dfb6row10_col14\" class=\"data row10 col14\" ></td>\n",
       "                        <td id=\"T_4610200e_e366_11ee_bdbb_96000040dfb6row10_col15\" class=\"data row10 col15\" ></td>\n",
       "            </tr>\n",
       "            <tr>\n",
       "                        <th id=\"T_4610200e_e366_11ee_bdbb_96000040dfb6level0_row11\" class=\"row_heading level0 row11\" >2020-06-21</th>\n",
       "                        <td id=\"T_4610200e_e366_11ee_bdbb_96000040dfb6row11_col0\" class=\"data row11 col0\" >100.00%</td>\n",
       "                        <td id=\"T_4610200e_e366_11ee_bdbb_96000040dfb6row11_col1\" class=\"data row11 col1\" >2.56%</td>\n",
       "                        <td id=\"T_4610200e_e366_11ee_bdbb_96000040dfb6row11_col2\" class=\"data row11 col2\" >4.05%</td>\n",
       "                        <td id=\"T_4610200e_e366_11ee_bdbb_96000040dfb6row11_col3\" class=\"data row11 col3\" >4.47%</td>\n",
       "                        <td id=\"T_4610200e_e366_11ee_bdbb_96000040dfb6row11_col4\" class=\"data row11 col4\" >4.83%</td>\n",
       "                        <td id=\"T_4610200e_e366_11ee_bdbb_96000040dfb6row11_col5\" class=\"data row11 col5\" ></td>\n",
       "                        <td id=\"T_4610200e_e366_11ee_bdbb_96000040dfb6row11_col6\" class=\"data row11 col6\" ></td>\n",
       "                        <td id=\"T_4610200e_e366_11ee_bdbb_96000040dfb6row11_col7\" class=\"data row11 col7\" ></td>\n",
       "                        <td id=\"T_4610200e_e366_11ee_bdbb_96000040dfb6row11_col8\" class=\"data row11 col8\" ></td>\n",
       "                        <td id=\"T_4610200e_e366_11ee_bdbb_96000040dfb6row11_col9\" class=\"data row11 col9\" ></td>\n",
       "                        <td id=\"T_4610200e_e366_11ee_bdbb_96000040dfb6row11_col10\" class=\"data row11 col10\" ></td>\n",
       "                        <td id=\"T_4610200e_e366_11ee_bdbb_96000040dfb6row11_col11\" class=\"data row11 col11\" ></td>\n",
       "                        <td id=\"T_4610200e_e366_11ee_bdbb_96000040dfb6row11_col12\" class=\"data row11 col12\" ></td>\n",
       "                        <td id=\"T_4610200e_e366_11ee_bdbb_96000040dfb6row11_col13\" class=\"data row11 col13\" ></td>\n",
       "                        <td id=\"T_4610200e_e366_11ee_bdbb_96000040dfb6row11_col14\" class=\"data row11 col14\" ></td>\n",
       "                        <td id=\"T_4610200e_e366_11ee_bdbb_96000040dfb6row11_col15\" class=\"data row11 col15\" ></td>\n",
       "            </tr>\n",
       "            <tr>\n",
       "                        <th id=\"T_4610200e_e366_11ee_bdbb_96000040dfb6level0_row12\" class=\"row_heading level0 row12\" >2020-06-22</th>\n",
       "                        <td id=\"T_4610200e_e366_11ee_bdbb_96000040dfb6row12_col0\" class=\"data row12 col0\" >100.00%</td>\n",
       "                        <td id=\"T_4610200e_e366_11ee_bdbb_96000040dfb6row12_col1\" class=\"data row12 col1\" >2.06%</td>\n",
       "                        <td id=\"T_4610200e_e366_11ee_bdbb_96000040dfb6row12_col2\" class=\"data row12 col2\" >5.25%</td>\n",
       "                        <td id=\"T_4610200e_e366_11ee_bdbb_96000040dfb6row12_col3\" class=\"data row12 col3\" >4.96%</td>\n",
       "                        <td id=\"T_4610200e_e366_11ee_bdbb_96000040dfb6row12_col4\" class=\"data row12 col4\" ></td>\n",
       "                        <td id=\"T_4610200e_e366_11ee_bdbb_96000040dfb6row12_col5\" class=\"data row12 col5\" ></td>\n",
       "                        <td id=\"T_4610200e_e366_11ee_bdbb_96000040dfb6row12_col6\" class=\"data row12 col6\" ></td>\n",
       "                        <td id=\"T_4610200e_e366_11ee_bdbb_96000040dfb6row12_col7\" class=\"data row12 col7\" ></td>\n",
       "                        <td id=\"T_4610200e_e366_11ee_bdbb_96000040dfb6row12_col8\" class=\"data row12 col8\" ></td>\n",
       "                        <td id=\"T_4610200e_e366_11ee_bdbb_96000040dfb6row12_col9\" class=\"data row12 col9\" ></td>\n",
       "                        <td id=\"T_4610200e_e366_11ee_bdbb_96000040dfb6row12_col10\" class=\"data row12 col10\" ></td>\n",
       "                        <td id=\"T_4610200e_e366_11ee_bdbb_96000040dfb6row12_col11\" class=\"data row12 col11\" ></td>\n",
       "                        <td id=\"T_4610200e_e366_11ee_bdbb_96000040dfb6row12_col12\" class=\"data row12 col12\" ></td>\n",
       "                        <td id=\"T_4610200e_e366_11ee_bdbb_96000040dfb6row12_col13\" class=\"data row12 col13\" ></td>\n",
       "                        <td id=\"T_4610200e_e366_11ee_bdbb_96000040dfb6row12_col14\" class=\"data row12 col14\" ></td>\n",
       "                        <td id=\"T_4610200e_e366_11ee_bdbb_96000040dfb6row12_col15\" class=\"data row12 col15\" ></td>\n",
       "            </tr>\n",
       "            <tr>\n",
       "                        <th id=\"T_4610200e_e366_11ee_bdbb_96000040dfb6level0_row13\" class=\"row_heading level0 row13\" >2020-06-23</th>\n",
       "                        <td id=\"T_4610200e_e366_11ee_bdbb_96000040dfb6row13_col0\" class=\"data row13 col0\" >100.00%</td>\n",
       "                        <td id=\"T_4610200e_e366_11ee_bdbb_96000040dfb6row13_col1\" class=\"data row13 col1\" >2.26%</td>\n",
       "                        <td id=\"T_4610200e_e366_11ee_bdbb_96000040dfb6row13_col2\" class=\"data row13 col2\" >4.10%</td>\n",
       "                        <td id=\"T_4610200e_e366_11ee_bdbb_96000040dfb6row13_col3\" class=\"data row13 col3\" ></td>\n",
       "                        <td id=\"T_4610200e_e366_11ee_bdbb_96000040dfb6row13_col4\" class=\"data row13 col4\" ></td>\n",
       "                        <td id=\"T_4610200e_e366_11ee_bdbb_96000040dfb6row13_col5\" class=\"data row13 col5\" ></td>\n",
       "                        <td id=\"T_4610200e_e366_11ee_bdbb_96000040dfb6row13_col6\" class=\"data row13 col6\" ></td>\n",
       "                        <td id=\"T_4610200e_e366_11ee_bdbb_96000040dfb6row13_col7\" class=\"data row13 col7\" ></td>\n",
       "                        <td id=\"T_4610200e_e366_11ee_bdbb_96000040dfb6row13_col8\" class=\"data row13 col8\" ></td>\n",
       "                        <td id=\"T_4610200e_e366_11ee_bdbb_96000040dfb6row13_col9\" class=\"data row13 col9\" ></td>\n",
       "                        <td id=\"T_4610200e_e366_11ee_bdbb_96000040dfb6row13_col10\" class=\"data row13 col10\" ></td>\n",
       "                        <td id=\"T_4610200e_e366_11ee_bdbb_96000040dfb6row13_col11\" class=\"data row13 col11\" ></td>\n",
       "                        <td id=\"T_4610200e_e366_11ee_bdbb_96000040dfb6row13_col12\" class=\"data row13 col12\" ></td>\n",
       "                        <td id=\"T_4610200e_e366_11ee_bdbb_96000040dfb6row13_col13\" class=\"data row13 col13\" ></td>\n",
       "                        <td id=\"T_4610200e_e366_11ee_bdbb_96000040dfb6row13_col14\" class=\"data row13 col14\" ></td>\n",
       "                        <td id=\"T_4610200e_e366_11ee_bdbb_96000040dfb6row13_col15\" class=\"data row13 col15\" ></td>\n",
       "            </tr>\n",
       "            <tr>\n",
       "                        <th id=\"T_4610200e_e366_11ee_bdbb_96000040dfb6level0_row14\" class=\"row_heading level0 row14\" >2020-06-24</th>\n",
       "                        <td id=\"T_4610200e_e366_11ee_bdbb_96000040dfb6row14_col0\" class=\"data row14 col0\" >100.00%</td>\n",
       "                        <td id=\"T_4610200e_e366_11ee_bdbb_96000040dfb6row14_col1\" class=\"data row14 col1\" >1.98%</td>\n",
       "                        <td id=\"T_4610200e_e366_11ee_bdbb_96000040dfb6row14_col2\" class=\"data row14 col2\" ></td>\n",
       "                        <td id=\"T_4610200e_e366_11ee_bdbb_96000040dfb6row14_col3\" class=\"data row14 col3\" ></td>\n",
       "                        <td id=\"T_4610200e_e366_11ee_bdbb_96000040dfb6row14_col4\" class=\"data row14 col4\" ></td>\n",
       "                        <td id=\"T_4610200e_e366_11ee_bdbb_96000040dfb6row14_col5\" class=\"data row14 col5\" ></td>\n",
       "                        <td id=\"T_4610200e_e366_11ee_bdbb_96000040dfb6row14_col6\" class=\"data row14 col6\" ></td>\n",
       "                        <td id=\"T_4610200e_e366_11ee_bdbb_96000040dfb6row14_col7\" class=\"data row14 col7\" ></td>\n",
       "                        <td id=\"T_4610200e_e366_11ee_bdbb_96000040dfb6row14_col8\" class=\"data row14 col8\" ></td>\n",
       "                        <td id=\"T_4610200e_e366_11ee_bdbb_96000040dfb6row14_col9\" class=\"data row14 col9\" ></td>\n",
       "                        <td id=\"T_4610200e_e366_11ee_bdbb_96000040dfb6row14_col10\" class=\"data row14 col10\" ></td>\n",
       "                        <td id=\"T_4610200e_e366_11ee_bdbb_96000040dfb6row14_col11\" class=\"data row14 col11\" ></td>\n",
       "                        <td id=\"T_4610200e_e366_11ee_bdbb_96000040dfb6row14_col12\" class=\"data row14 col12\" ></td>\n",
       "                        <td id=\"T_4610200e_e366_11ee_bdbb_96000040dfb6row14_col13\" class=\"data row14 col13\" ></td>\n",
       "                        <td id=\"T_4610200e_e366_11ee_bdbb_96000040dfb6row14_col14\" class=\"data row14 col14\" ></td>\n",
       "                        <td id=\"T_4610200e_e366_11ee_bdbb_96000040dfb6row14_col15\" class=\"data row14 col15\" ></td>\n",
       "            </tr>\n",
       "            <tr>\n",
       "                        <th id=\"T_4610200e_e366_11ee_bdbb_96000040dfb6level0_row15\" class=\"row_heading level0 row15\" >2020-06-25</th>\n",
       "                        <td id=\"T_4610200e_e366_11ee_bdbb_96000040dfb6row15_col0\" class=\"data row15 col0\" >100.00%</td>\n",
       "                        <td id=\"T_4610200e_e366_11ee_bdbb_96000040dfb6row15_col1\" class=\"data row15 col1\" ></td>\n",
       "                        <td id=\"T_4610200e_e366_11ee_bdbb_96000040dfb6row15_col2\" class=\"data row15 col2\" ></td>\n",
       "                        <td id=\"T_4610200e_e366_11ee_bdbb_96000040dfb6row15_col3\" class=\"data row15 col3\" ></td>\n",
       "                        <td id=\"T_4610200e_e366_11ee_bdbb_96000040dfb6row15_col4\" class=\"data row15 col4\" ></td>\n",
       "                        <td id=\"T_4610200e_e366_11ee_bdbb_96000040dfb6row15_col5\" class=\"data row15 col5\" ></td>\n",
       "                        <td id=\"T_4610200e_e366_11ee_bdbb_96000040dfb6row15_col6\" class=\"data row15 col6\" ></td>\n",
       "                        <td id=\"T_4610200e_e366_11ee_bdbb_96000040dfb6row15_col7\" class=\"data row15 col7\" ></td>\n",
       "                        <td id=\"T_4610200e_e366_11ee_bdbb_96000040dfb6row15_col8\" class=\"data row15 col8\" ></td>\n",
       "                        <td id=\"T_4610200e_e366_11ee_bdbb_96000040dfb6row15_col9\" class=\"data row15 col9\" ></td>\n",
       "                        <td id=\"T_4610200e_e366_11ee_bdbb_96000040dfb6row15_col10\" class=\"data row15 col10\" ></td>\n",
       "                        <td id=\"T_4610200e_e366_11ee_bdbb_96000040dfb6row15_col11\" class=\"data row15 col11\" ></td>\n",
       "                        <td id=\"T_4610200e_e366_11ee_bdbb_96000040dfb6row15_col12\" class=\"data row15 col12\" ></td>\n",
       "                        <td id=\"T_4610200e_e366_11ee_bdbb_96000040dfb6row15_col13\" class=\"data row15 col13\" ></td>\n",
       "                        <td id=\"T_4610200e_e366_11ee_bdbb_96000040dfb6row15_col14\" class=\"data row15 col14\" ></td>\n",
       "                        <td id=\"T_4610200e_e366_11ee_bdbb_96000040dfb6row15_col15\" class=\"data row15 col15\" ></td>\n",
       "            </tr>\n",
       "    </tbody></table>"
      ],
      "text/plain": [
       "<pandas.io.formats.style.Styler at 0x7f72cacc9a90>"
      ]
     },
     "execution_count": 11,
     "metadata": {},
     "output_type": "execute_result"
    }
   ],
   "source": [
    "retention_styled(retention_calculate(path_reg, path_auth, first_date, n))"
   ]
  },
  {
   "cell_type": "markdown",
   "metadata": {},
   "source": [
    "--------------"
   ]
  },
  {
   "cell_type": "markdown",
   "metadata": {},
   "source": [
    "## Задание 2.\n",
    "## Общее описание:\n",
    "Имеются результаты A/B теста, в котором двум группам пользователей предлагались различные наборы акционных предложений. Известно, что ARPU в тестовой группе выше на 5%, чем в контрольной. При этом в контрольной группе 1928 игроков из 202103 оказались платящими, а в тестовой – 1805 из 202667.\n",
    "\n",
    "Задача – Какой набор предложений можно считать лучшим? Какие метрики стоит проанализировать для принятия правильного решения и как?\n",
    "\n",
    "### План\n",
    "\n",
    "1. **Сначала сделаем небольшой препроцессинг:**\n",
    "    - Посмотрим на данные\n",
    "2. **Далее сформулируем гипотезы, исходя из общей задачи:**\n",
    "    - Сформулируем предположения, которые будем тестировать\n",
    "    - Проведем работу с данными для создания необходимых датасетов\n",
    "3. **Тестируем гипотезы:**\n",
    "     - Выбираем гипотезу\n",
    "     - Выбираем подходящий тест\n",
    "     - Тестируем    \n",
    "4. **Подводим итоги:**\n",
    "    - Сформулировать выводы и суммаризировать всё что было"
   ]
  },
  {
   "cell_type": "code",
   "execution_count": 12,
   "metadata": {},
   "outputs": [],
   "source": [
    "public_key = 'https://disk.yandex.ru/d/SOkIsD5A8xlI7Q' "
   ]
  },
  {
   "cell_type": "code",
   "execution_count": 13,
   "metadata": {},
   "outputs": [],
   "source": [
    "#функция считывания файла через API с яндекс диска\n",
    "def read_file(public_key):\n",
    "    base_url = 'https://cloud-api.yandex.net/v1/disk/public/resources/download?' \n",
    "     \n",
    "    # получаем url \n",
    "    final_url = base_url + urlencode(dict(public_key=public_key)) \n",
    "    response = requests.get(final_url) \n",
    "    download_url = response.json()['href'] \n",
    "\n",
    "    # загружаем файл в df \n",
    "    download_response = requests.get(download_url) \n",
    "    df = pd.read_csv(download_url, sep=';')\n",
    "    \n",
    "    return df"
   ]
  },
  {
   "cell_type": "code",
   "execution_count": 14,
   "metadata": {},
   "outputs": [
    {
     "data": {
      "text/html": [
       "<div>\n",
       "<style scoped>\n",
       "    .dataframe tbody tr th:only-of-type {\n",
       "        vertical-align: middle;\n",
       "    }\n",
       "\n",
       "    .dataframe tbody tr th {\n",
       "        vertical-align: top;\n",
       "    }\n",
       "\n",
       "    .dataframe thead th {\n",
       "        text-align: right;\n",
       "    }\n",
       "</style>\n",
       "<table border=\"1\" class=\"dataframe\">\n",
       "  <thead>\n",
       "    <tr style=\"text-align: right;\">\n",
       "      <th></th>\n",
       "      <th>user_id</th>\n",
       "      <th>revenue</th>\n",
       "      <th>testgroup</th>\n",
       "    </tr>\n",
       "  </thead>\n",
       "  <tbody>\n",
       "    <tr>\n",
       "      <th>0</th>\n",
       "      <td>1</td>\n",
       "      <td>0</td>\n",
       "      <td>b</td>\n",
       "    </tr>\n",
       "    <tr>\n",
       "      <th>1</th>\n",
       "      <td>2</td>\n",
       "      <td>0</td>\n",
       "      <td>a</td>\n",
       "    </tr>\n",
       "    <tr>\n",
       "      <th>2</th>\n",
       "      <td>3</td>\n",
       "      <td>0</td>\n",
       "      <td>a</td>\n",
       "    </tr>\n",
       "    <tr>\n",
       "      <th>3</th>\n",
       "      <td>4</td>\n",
       "      <td>0</td>\n",
       "      <td>b</td>\n",
       "    </tr>\n",
       "    <tr>\n",
       "      <th>4</th>\n",
       "      <td>5</td>\n",
       "      <td>0</td>\n",
       "      <td>b</td>\n",
       "    </tr>\n",
       "  </tbody>\n",
       "</table>\n",
       "</div>"
      ],
      "text/plain": [
       "   user_id  revenue testgroup\n",
       "0        1        0         b\n",
       "1        2        0         a\n",
       "2        3        0         a\n",
       "3        4        0         b\n",
       "4        5        0         b"
      ]
     },
     "execution_count": 14,
     "metadata": {},
     "output_type": "execute_result"
    }
   ],
   "source": [
    "# Посмотрим на ДФ и проверим правильно ли спарсились данные\n",
    "df = read_file(public_key)\n",
    "df.head()"
   ]
  },
  {
   "cell_type": "code",
   "execution_count": 15,
   "metadata": {
    "scrolled": false
   },
   "outputs": [
    {
     "data": {
      "text/plain": [
       "<matplotlib.axes._subplots.AxesSubplot at 0x7f72e4af59b0>"
      ]
     },
     "execution_count": 15,
     "metadata": {},
     "output_type": "execute_result"
    },
    {
     "data": {
      "image/png": "[encoded data removed]",
      "text/plain": [
       "<Figure size 1080x720 with 1 Axes>"
      ]
     },
     "metadata": {
      "needs_background": "light"
     },
     "output_type": "display_data"
    }
   ],
   "source": [
    "# Посмотрим на распределение выручки по группам и отфильтруемся только по платящим пользователям\n",
    "plt.figure(figsize=(15,10))\n",
    "sns.histplot(data = df[df['revenue'] != 0], x = 'revenue', hue = 'testgroup')"
   ]
  },
  {
   "cell_type": "markdown",
   "metadata": {},
   "source": [
    "По гистограмме видно, что для тестовой группы основная масса выручки у пользователей сконцентрировалась в диапазоне от ~2000 до ~5000. А для контрольной группы от 0 до ~1000. И, есть некоторые пользователи, выручка от которых превышает 35000"
   ]
  },
  {
   "cell_type": "code",
   "execution_count": 16,
   "metadata": {},
   "outputs": [
    {
     "data": {
      "text/plain": [
       "<matplotlib.axes._subplots.AxesSubplot at 0x7f73031b1080>"
      ]
     },
     "execution_count": 16,
     "metadata": {},
     "output_type": "execute_result"
    },
    {
     "data": {
      "image/png": "[encoded data removed]",
      "text/plain": [
       "<Figure size 1296x864 with 2 Axes>"
      ]
     },
     "metadata": {
      "needs_background": "light"
     },
     "output_type": "display_data"
    }
   ],
   "source": [
    "plt.figure(figsize=(18,12))\n",
    "plt.subplot(2, 2, 1)\n",
    "sns.histplot(data = df[(df['revenue'] > 0) & (df['revenue'] < 5000)], x = 'revenue', hue = 'testgroup')\n",
    "\n",
    "plt.subplot(2, 2, 2)\n",
    "sns.histplot(data = df[df['revenue'] > 35000], x = 'revenue', hue = 'testgroup')"
   ]
  },
  {
   "cell_type": "code",
   "execution_count": 17,
   "metadata": {},
   "outputs": [
    {
     "name": "stdout",
     "output_type": "stream",
     "text": [
      "Количество юзеров в контрольной группе, с выручкой до 500: 1805\n",
      "Количество юзеров в контрольной группе, с выручкой более чем 37000: 123\n",
      "Количество юзеров в тестовой группе, с выручкой в диапазоне 2000-4000: 1805\n"
     ]
    }
   ],
   "source": [
    "a_under_500 = df.query(\"testgroup == 'a' & (revenue > 0 & revenue < 500)\").shape[0]\n",
    "a_higher_37000 = df.query(\"testgroup == 'a' & revenue > 35000\").shape[0]\n",
    "\n",
    "b_2000_4000 = df.query(\"testgroup == 'b' & (revenue > 1500 & revenue < 5000)\").shape[0]\n",
    "\n",
    "# Вывод результатов\n",
    "print(\"Количество юзеров в контрольной группе, с выручкой до 500:\", a_under_500)\n",
    "print(\"Количество юзеров в контрольной группе, с выручкой более чем 37000:\", a_higher_37000)\n",
    "print(\"Количество юзеров в тестовой группе, с выручкой в диапазоне 2000-4000:\", b_2000_4000)"
   ]
  },
  {
   "cell_type": "markdown",
   "metadata": {},
   "source": [
    "Посмотрим через boxplot есть ли выбросы в данных"
   ]
  },
  {
   "cell_type": "code",
   "execution_count": 18,
   "metadata": {},
   "outputs": [
    {
     "data": {
      "text/plain": [
       "<matplotlib.axes._subplots.AxesSubplot at 0x7f7303067a58>"
      ]
     },
     "execution_count": 18,
     "metadata": {},
     "output_type": "execute_result"
    },
    {
     "data": {
      "image/png": "[encoded data removed]",
      "text/plain": [
       "<Figure size 1296x864 with 2 Axes>"
      ]
     },
     "metadata": {
      "needs_background": "light"
     },
     "output_type": "display_data"
    }
   ],
   "source": [
    "plt.figure(figsize=(18,12))\n",
    "plt.subplot(2, 2, 1)\n",
    "plt.title('Ящик с усами для платящих пользователей в контрольной группе')\n",
    "sns.boxplot(data = df.query(\"testgroup == 'a' & revenue > 0\"), x = 'revenue')\n",
    "\n",
    "plt.subplot(2, 2, 2)\n",
    "plt.title('Ящик с усами для платящих пользователей в тестовой группе')\n",
    "sns.boxplot(data = df.query(\"testgroup == 'b' & revenue > 0\"), x = 'revenue')"
   ]
  },
  {
   "cell_type": "markdown",
   "metadata": {},
   "source": [
    "Из проведенного анализа, можно сделать вывод, что в контрольной группе из 1928 платящих пользователей 93,6% приходится на пользователей с выручкой до 500. А 6,4% пользователей (123 человека) принесли выручку более чем 37000. После построения ящика с усами для выручки в контрольной группе обнаружилось, что эти данные относятся к выбросам.\n",
    "\n",
    "В тестовой же группе таких \"выбросов\" нет и все платящие пользователи расположились в диапазоне выручки от 2000 до 4000."
   ]
  },
  {
   "cell_type": "markdown",
   "metadata": {},
   "source": [
    "--------------"
   ]
  },
  {
   "cell_type": "markdown",
   "metadata": {},
   "source": [
    "### Прежде чем формулировать и проверять гипотезы подготовим данные таким образом, чтобы рассчитать интересующие нас метрики. Напишем функцию, в которой будут рассчитываться метрики Average Revenue Per User (ARPU), Average Revenue Per Paying User (ARPPU), Conversion Rate (CR)"
   ]
  },
  {
   "cell_type": "code",
   "execution_count": 19,
   "metadata": {},
   "outputs": [],
   "source": [
    "def metrics_df(df):\n",
    "    total_users = df.groupby('testgroup', as_index = False) \\\n",
    "               .agg({'user_id' : 'nunique'}) \\\n",
    "               .rename(columns = {'user_id' : 'total_users'})\n",
    "    \n",
    "    paying_users = df.query(\"revenue > 0\") \\\n",
    "                     .groupby('testgroup', as_index = False) \\\n",
    "                     .agg({'user_id' : 'nunique'}) \\\n",
    "                     .rename(columns = {'user_id' : 'paying_users'})\n",
    "    \n",
    "    revenue_df = df.groupby('testgroup').agg({'revenue' : 'sum'})\n",
    "    \n",
    "    metrics_df = total_users.copy()\n",
    "    metrics_df = metrics_df.merge(paying_users, how = 'left', on = 'testgroup')\n",
    "    metrics_df = metrics_df.merge(revenue_df, how = 'left', on = 'testgroup')\n",
    "    \n",
    "    metrics_df['ARPU'] = round(metrics_df['revenue'] / metrics_df['total_users'], 2)\n",
    "    metrics_df['ARPPU'] = round(metrics_df['revenue'] / metrics_df['paying_users'], 2)\n",
    "    metrics_df['CR'] = round(metrics_df['paying_users'] / metrics_df['total_users'] * 100, 2)\n",
    "    \n",
    "    return metrics_df"
   ]
  },
  {
   "cell_type": "code",
   "execution_count": 20,
   "metadata": {},
   "outputs": [
    {
     "data": {
      "text/html": [
       "<div>\n",
       "<style scoped>\n",
       "    .dataframe tbody tr th:only-of-type {\n",
       "        vertical-align: middle;\n",
       "    }\n",
       "\n",
       "    .dataframe tbody tr th {\n",
       "        vertical-align: top;\n",
       "    }\n",
       "\n",
       "    .dataframe thead th {\n",
       "        text-align: right;\n",
       "    }\n",
       "</style>\n",
       "<table border=\"1\" class=\"dataframe\">\n",
       "  <thead>\n",
       "    <tr style=\"text-align: right;\">\n",
       "      <th></th>\n",
       "      <th>testgroup</th>\n",
       "      <th>total_users</th>\n",
       "      <th>paying_users</th>\n",
       "      <th>revenue</th>\n",
       "      <th>ARPU</th>\n",
       "      <th>ARPPU</th>\n",
       "      <th>CR</th>\n",
       "    </tr>\n",
       "  </thead>\n",
       "  <tbody>\n",
       "    <tr>\n",
       "      <th>0</th>\n",
       "      <td>a</td>\n",
       "      <td>202103</td>\n",
       "      <td>1928</td>\n",
       "      <td>5136189</td>\n",
       "      <td>25.41</td>\n",
       "      <td>2664.00</td>\n",
       "      <td>0.95</td>\n",
       "    </tr>\n",
       "    <tr>\n",
       "      <th>1</th>\n",
       "      <td>b</td>\n",
       "      <td>202667</td>\n",
       "      <td>1805</td>\n",
       "      <td>5421603</td>\n",
       "      <td>26.75</td>\n",
       "      <td>3003.66</td>\n",
       "      <td>0.89</td>\n",
       "    </tr>\n",
       "  </tbody>\n",
       "</table>\n",
       "</div>"
      ],
      "text/plain": [
       "  testgroup  total_users  paying_users  revenue   ARPU    ARPPU    CR\n",
       "0         a       202103          1928  5136189  25.41  2664.00  0.95\n",
       "1         b       202667          1805  5421603  26.75  3003.66  0.89"
      ]
     },
     "execution_count": 20,
     "metadata": {},
     "output_type": "execute_result"
    }
   ],
   "source": [
    "task_2 = metrics_df(df)\n",
    "task_2"
   ]
  },
  {
   "cell_type": "code",
   "execution_count": 21,
   "metadata": {},
   "outputs": [
    {
     "data": {
      "text/plain": [
       "105.27351436442345"
      ]
     },
     "execution_count": 21,
     "metadata": {},
     "output_type": "execute_result"
    }
   ],
   "source": [
    "arpu_a = task_2.loc[task_2['testgroup'] == 'a', 'ARPU'].values[0]\n",
    "arpu_b = task_2.loc[task_2['testgroup'] == 'b', 'ARPU'].values[0]\n",
    "\n",
    "arpu_b / arpu_a * 100"
   ]
  },
  {
   "cell_type": "markdown",
   "metadata": {},
   "source": [
    "### **Общая выручка по группам составила:**\n",
    "    - В контрольной группе: 5 136 189;\n",
    "    - В тестовой группе: 5 421 603.\n",
    "### **ARPU по группам:**\n",
    "    - В контрольной группе: 25.41;\n",
    "    - В тестовой группе: 26.75.\n",
    "    Также проверили, что судя по полученным данным, рост ARPU в тестовой группе действительно составляет 5% \n",
    "    относительно контрольной.\n",
    "### **ARPPU по группам:**\n",
    "    - В контрольной группе: 2664.00;\n",
    "    - В тестовой группе: 3003.66.\n",
    "### **CR по группам:**\n",
    "    - В контрольной группе: 0.95;\n",
    "    - В тестовой группе: 0.89."
   ]
  },
  {
   "cell_type": "markdown",
   "metadata": {},
   "source": [
    "Теперь необходимо определить, есть ли статистически значимые различия между группами по исследуемым ключевым метрикам. \n",
    "В первую очередь данные необходимо проверить на нормальность распределения. Для решения этой задачи буду использовать тест Шапиро-Уилка. Проверку равенства дисперсий между группами произведу при помощи теста Левена. "
   ]
  },
  {
   "cell_type": "code",
   "execution_count": 22,
   "metadata": {},
   "outputs": [
    {
     "name": "stderr",
     "output_type": "stream",
     "text": [
      "/opt/tljh/user/lib/python3.7/site-packages/scipy/stats/morestats.py:1760: UserWarning: p-value may not be accurate for N > 5000.\n",
      "  warnings.warn(\"p-value may not be accurate for N > 5000.\")\n"
     ]
    },
    {
     "data": {
      "text/plain": [
       "(ShapiroResult(statistic=0.008876502513885498, pvalue=0.0),\n",
       " ShapiroResult(statistic=0.06588172912597656, pvalue=0.0))"
      ]
     },
     "execution_count": 22,
     "metadata": {},
     "output_type": "execute_result"
    }
   ],
   "source": [
    "# Проверка на нормальность распределения выручки в каждой группе\n",
    "shapiro_a = sps.shapiro(df.query(\"testgroup == 'a'\")['revenue'])\n",
    "shapiro_b = sps.shapiro(df.query(\"testgroup == 'b'\")['revenue'])\n",
    "\n",
    "shapiro_a, shapiro_b"
   ]
  },
  {
   "cell_type": "code",
   "execution_count": 23,
   "metadata": {},
   "outputs": [
    {
     "data": {
      "text/plain": [
       "LeveneResult(statistic=0.3896289474701388, pvalue=0.5324948591043842)"
      ]
     },
     "execution_count": 23,
     "metadata": {},
     "output_type": "execute_result"
    }
   ],
   "source": [
    "# Проверка на равенство дисперсий\n",
    "levene_test = sps.levene(df.query(\"testgroup == 'a'\")['revenue'], df.query(\"testgroup == 'b'\")['revenue'])\n",
    "\n",
    "levene_test"
   ]
  },
  {
   "cell_type": "markdown",
   "metadata": {},
   "source": [
    "Результаты теста на нормальность распределения данных показали свидетельствуют о том, что распределение данных не является нормальным. \n",
    "\n",
    "В таком случае для сравнения различий между группами применяются непараметрические тесты, например U-критерий Манна-Уитни? однако, для выборки такого размера допускается использовать и T-test поэтому при сравнении ARPU и ARPPU я буду использовать его.\n",
    "\n",
    "Для определения различий в конверсиях между двумя группами буду использовать Хи-Квадрат."
   ]
  },
  {
   "cell_type": "markdown",
   "metadata": {},
   "source": [
    "### Для сравнения `ARPU` сформулируем проверяемые гипотезы следующим образом:\n",
    "\n",
    "- $H_0$: ARPU в группах не отличаются\n",
    "- $H_1$: отличия есть"
   ]
  },
  {
   "cell_type": "code",
   "execution_count": 24,
   "metadata": {},
   "outputs": [
    {
     "name": "stdout",
     "output_type": "stream",
     "text": [
      "Statistic: -0.6242026493616787\n",
      "p-value: 0.532494858971837\n"
     ]
    }
   ],
   "source": [
    "# Выполнение t-test\n",
    "statistic, p_value = sps.ttest_ind(df.query(\"testgroup == 'a'\")['revenue'], df.query(\"testgroup == 'b'\")['revenue'])\n",
    "\n",
    "# Вывод результатов\n",
    "print(\"Statistic:\", statistic)\n",
    "print(\"p-value:\", p_value)"
   ]
  },
  {
   "cell_type": "markdown",
   "metadata": {},
   "source": [
    "#### Получившееся `p-value > 0.05`, поэтому гипотеза $H_0$ не отклоняется."
   ]
  },
  {
   "cell_type": "markdown",
   "metadata": {},
   "source": [
    "-----"
   ]
  },
  {
   "cell_type": "markdown",
   "metadata": {},
   "source": [
    "### Для сравнения `ARPPU` сформулируем проверяемые гипотезы следующим образом:\n",
    "\n",
    "- $H_0$: ARPPU в группах не отличаются\n",
    "- $H_1$: отличия есть"
   ]
  },
  {
   "cell_type": "code",
   "execution_count": 25,
   "metadata": {},
   "outputs": [
    {
     "name": "stdout",
     "output_type": "stream",
     "text": [
      "Statistic: -1.5917100176862002\n",
      "p-value: 0.11153459157259504\n"
     ]
    }
   ],
   "source": [
    "# Выполнение t-test\n",
    "statistic, p_value = sps.ttest_ind(df.query(\"testgroup == 'a' & revenue != 0\")['revenue'], \n",
    "                                   df.query(\"testgroup == 'b' & revenue != 0\")['revenue'])\n",
    "# Вывод результатов\n",
    "print(\"Statistic:\", statistic)\n",
    "print(\"p-value:\", p_value)"
   ]
  },
  {
   "cell_type": "markdown",
   "metadata": {},
   "source": [
    "#### Получившееся `p-value > 0.05`, поэтому гипотеза $H_0$ не отклоняется."
   ]
  },
  {
   "cell_type": "markdown",
   "metadata": {},
   "source": [
    "-----------------------------------------"
   ]
  },
  {
   "cell_type": "markdown",
   "metadata": {},
   "source": [
    "### Для сравнения `CR` сформулируем проверяемые гипотезы следующим образом:\n",
    "\n",
    "- $H_0$: CR в группах не отличаются\n",
    "- $H_1$: отличия есть"
   ]
  },
  {
   "cell_type": "code",
   "execution_count": 27,
   "metadata": {},
   "outputs": [],
   "source": [
    "df['converted'] = df['revenue'].apply(lambda x: 1 if x > 0 else 0)"
   ]
  },
  {
   "cell_type": "code",
   "execution_count": 28,
   "metadata": {
    "scrolled": true
   },
   "outputs": [
    {
     "data": {
      "text/html": [
       "<div>\n",
       "<style scoped>\n",
       "    .dataframe tbody tr th:only-of-type {\n",
       "        vertical-align: middle;\n",
       "    }\n",
       "\n",
       "    .dataframe tbody tr th {\n",
       "        vertical-align: top;\n",
       "    }\n",
       "\n",
       "    .dataframe thead th {\n",
       "        text-align: right;\n",
       "    }\n",
       "</style>\n",
       "<table border=\"1\" class=\"dataframe\">\n",
       "  <thead>\n",
       "    <tr style=\"text-align: right;\">\n",
       "      <th>converted</th>\n",
       "      <th>0</th>\n",
       "      <th>1</th>\n",
       "    </tr>\n",
       "    <tr>\n",
       "      <th>testgroup</th>\n",
       "      <th></th>\n",
       "      <th></th>\n",
       "    </tr>\n",
       "  </thead>\n",
       "  <tbody>\n",
       "    <tr>\n",
       "      <th>a</th>\n",
       "      <td>200175</td>\n",
       "      <td>1928</td>\n",
       "    </tr>\n",
       "    <tr>\n",
       "      <th>b</th>\n",
       "      <td>200862</td>\n",
       "      <td>1805</td>\n",
       "    </tr>\n",
       "  </tbody>\n",
       "</table>\n",
       "</div>"
      ],
      "text/plain": [
       "converted       0     1\n",
       "testgroup              \n",
       "a          200175  1928\n",
       "b          200862  1805"
      ]
     },
     "execution_count": 28,
     "metadata": {},
     "output_type": "execute_result"
    }
   ],
   "source": [
    "cross_tab = pd.crosstab(df['testgroup'], df['converted'])\n",
    "cross_tab"
   ]
  },
  {
   "cell_type": "code",
   "execution_count": 29,
   "metadata": {},
   "outputs": [
    {
     "name": "stdout",
     "output_type": "stream",
     "text": [
      "Statistic: 4.374729521260405\n",
      "p-value: 0.03647561892312613\n"
     ]
    }
   ],
   "source": [
    "# Применение теста хи-квадрат\n",
    "stat, p_value, dof, expected = sps.chi2_contingency(cross_tab)\n",
    "\n",
    "# Вывод результатов\n",
    "print(\"Statistic:\", stat)\n",
    "print(\"p-value:\", p_value)"
   ]
  },
  {
   "cell_type": "markdown",
   "metadata": {},
   "source": [
    "#### `p-value < 0.05` , поэтому следует отклонить $H_0$ и принять $H_1$."
   ]
  },
  {
   "cell_type": "markdown",
   "metadata": {},
   "source": [
    "-------"
   ]
  },
  {
   "cell_type": "markdown",
   "metadata": {},
   "source": [
    "## Выводы:\n",
    "\n",
    "1. На основе результатов сравнения ARPU и ARPPU с использованием t-test в контрольной и тестовой группах можно сделать вывод о том, что статистически значимых различий в группах между двумя этими метриками не обнаружено, даже не смотря на то, что визуально ARPU в тестовой группе выше на 5%.\n",
    " \n",
    "2. Применение хи-квадрат позволил удостовериться в том, что CR в контрольной группе выше, чем в тестовой."
   ]
  },
  {
   "cell_type": "markdown",
   "metadata": {},
   "source": [
    "--------"
   ]
  },
  {
   "cell_type": "markdown",
   "metadata": {},
   "source": [
    "## Задание 3.\n",
    "## Общее описание:\n",
    "В игре Plants & Gardens каждый месяц проводятся тематические события, ограниченные по времени. В них игроки могут получить уникальные предметы для сада и персонажей, дополнительные монеты или бонусы. Для получения награды требуется пройти ряд уровней за определенное время. С помощью каких метрик можно оценить результаты последнего прошедшего события?\n",
    "\n",
    "Предположим, в другом событии мы усложнили механику событий так, что при каждой неудачной попытке выполнения уровня игрок будет откатываться на несколько уровней назад. Изменится ли набор метрик оценки результата? Если да, то как?"
   ]
  },
  {
   "cell_type": "markdown",
   "metadata": {},
   "source": [
    "- DAU/MAU (позволят оценить дневную/месячную активность пользователей во время ивента и сравнить показатели с показателями когда ивент не проводится).\n",
    "\n",
    "\n",
    "- Доля участников ивента (сколько юзеров от общего числа MAU учавствует в ивенте).\n",
    "\n",
    "\n",
    "- Retention rate/churn rate (позволит оценить удержание и отток пользователей и понять нравится ли ивент или нет).\n",
    "\n",
    "\n",
    "- Среднее время нахождения в онлайне в течение месяца (позволит оценить как выросло время, которое проводят в игре пользователи после введения ивента).\n",
    "\n",
    "\n",
    "- Средний прогресс левела (позволит более точно установить ценность для наград за уровни. За первые уровни даются не слишком ценные предметы, по мере нарастания уровней ценность предметов повышается. Эта метрика позволит определить до какого уровня в среднем дошли наши юзеры).\n",
    "\n",
    "\n",
    "- Среднее время прохождения и количество попыток чтобы пройти уровень (позволит оценить сложность уровней).\n",
    "\n",
    "\n",
    "- Если существует магазин внутриигровых предметов за донат, то можно сравнить выручку в течение ивента с выручкой в период когда ивент не проводится.\n",
    "\n",
    "\n",
    "----\n",
    "- Думаю, что в случае усложнения механики ивента оцениваемые метрики не изменятся. Нам особенно важно оценивать DAU/MAU, retention и churn rate, т к усложненная механика событий может негативно повлиять на число активных юзеров.\n"
   ]
  }
 ],
 "metadata": {
  "kernelspec": {
   "display_name": "Python 3",
   "language": "python",
   "name": "python3"
  },
  "language_info": {
   "codemirror_mode": {
    "name": "ipython",
    "version": 3
   },
   "file_extension": ".py",
   "mimetype": "text/x-python",
   "name": "python",
   "nbconvert_exporter": "python",
   "pygments_lexer": "ipython3",
   "version": "3.7.3"
  }
 },
 "nbformat": 4,
 "nbformat_minor": 4
}
